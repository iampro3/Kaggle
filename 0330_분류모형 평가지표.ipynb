{
 "cells": [
  {
   "cell_type": "markdown",
   "id": "180186de-b15c-482c-8800-933661e50f82",
   "metadata": {},
   "source": [
    "## 0330 Part2."
   ]
  },
  {
   "cell_type": "markdown",
   "id": "94cecadc-218f-448b-86e4-f7ce7092ede2",
   "metadata": {},
   "source": [
    "## 분류모형 평가지표\n",
    "- confusion Matrix(혼동행렬)\n",
    "    + 정확도(accuracy) : tp + tn / (tp+tn+fn+np)\n",
    "    + 재현율(Recall)\n",
    "    + 정밀도(Precision)\n",
    "    + F- score"
   ]
  },
  {
   "cell_type": "markdown",
   "id": "3842bee7-5fb7-41a3-beae-32ee042ce008",
   "metadata": {},
   "source": [
    "F score = 2 X (정밀도) x (재현율)\n",
    "         _________________________\n",
    "            (정밀도) + (재현율)"
   ]
  },
  {
   "cell_type": "code",
   "execution_count": 1,
   "id": "4f11ecbf-4324-4f29-8aea-c87958e722fb",
   "metadata": {
    "tags": []
   },
   "outputs": [
    {
     "data": {
      "text/plain": [
       "array([[4, 1],\n",
       "       [3, 2]], dtype=int64)"
      ]
     },
     "execution_count": 1,
     "metadata": {},
     "output_type": "execute_result"
    }
   ],
   "source": [
    "from sklearn.metrics import confusion_matrix\n",
    "y_true = [0, 1, 1, 1, 0, 0, 0, 1, 0, 1]\n",
    "y_pred = [0, 0, 1, 0, 0, 0, 0, 1, 1, 0]\n",
    "\n",
    "confusion_matrix(y_true, y_pred)"
   ]
  },
  {
   "cell_type": "code",
   "execution_count": 12,
   "id": "178078a4-95de-46d7-a52b-33f39a3972b3",
   "metadata": {
    "tags": []
   },
   "outputs": [
    {
     "name": "stdout",
     "output_type": "stream",
     "text": [
      "4 1 3 2\n"
     ]
    }
   ],
   "source": [
    "tn, fp, fn, tp = confusion_matrix(y_true, y_pred).ravel()\n",
    "print(tn, fp, fn, tp)"
   ]
  },
  {
   "cell_type": "code",
   "execution_count": 8,
   "id": "b617f5d6-a0f7-455c-a3e9-62fad2a8bbd8",
   "metadata": {
    "tags": []
   },
   "outputs": [
    {
     "data": {
      "text/plain": [
       "0.6666666666666666"
      ]
     },
     "execution_count": 8,
     "metadata": {},
     "output_type": "execute_result"
    }
   ],
   "source": [
    "from sklearn.metrics import precision_score\n",
    "precision_score(y_true, y_pred)"
   ]
  },
  {
   "cell_type": "code",
   "execution_count": 9,
   "id": "eab2e15f-f8f2-4dc1-8790-b44c1d1b6907",
   "metadata": {
    "tags": []
   },
   "outputs": [
    {
     "data": {
      "text/plain": [
       "0.4"
      ]
     },
     "execution_count": 9,
     "metadata": {},
     "output_type": "execute_result"
    }
   ],
   "source": [
    "from sklearn.metrics import recall_score\n",
    "recall_score(y_true, y_pred)"
   ]
  },
  {
   "cell_type": "code",
   "execution_count": 11,
   "id": "3c2937cf-cded-43b7-a933-5024e3bb4094",
   "metadata": {
    "tags": []
   },
   "outputs": [
    {
     "data": {
      "text/plain": [
       "0.5"
      ]
     },
     "execution_count": 11,
     "metadata": {},
     "output_type": "execute_result"
    }
   ],
   "source": [
    "from sklearn.metrics import f1_score\n",
    "f1_score(y_true, y_pred)"
   ]
  },
  {
   "cell_type": "markdown",
   "id": "83612cd3-56cc-4e27-927a-c5f3ed707f7a",
   "metadata": {},
   "source": [
    "## 모형 신뢰도 \n",
    "- AUC, ROC_CURVE \n",
    "- AUC = 1, 가장 좋은 모델, 정확도 100%\n",
    "- AUC =0.5 사람이 예측을 하나,알고리즘이 예측을 하나 큰 의미가 없다.\n",
    "- AUC = 0.3 : 수학적으로 불가능한 결과임\n",
    "- AUC 0.8~0.9 사이인 모델을 좋은 모델이라 판단한다."
   ]
  },
  {
   "cell_type": "code",
   "execution_count": null,
   "id": "b08a6ff2-9722-4db5-bbe4-7c1106d5f804",
   "metadata": {},
   "outputs": [],
   "source": []
  },
  {
   "cell_type": "code",
   "execution_count": null,
   "id": "8a6919da-13fc-416b-acd6-1e17dd9fd96e",
   "metadata": {},
   "outputs": [],
   "source": []
  },
  {
   "cell_type": "code",
   "execution_count": null,
   "id": "f6c7e2ca-2e44-46a1-8681-70c20fc89cf0",
   "metadata": {},
   "outputs": [],
   "source": []
  },
  {
   "cell_type": "code",
   "execution_count": null,
   "id": "6412b580-fe0b-4068-bc9b-cc4521a143d4",
   "metadata": {},
   "outputs": [],
   "source": []
  },
  {
   "cell_type": "code",
   "execution_count": null,
   "id": "3585f20b-4bc5-416b-9416-c1be75b25cf0",
   "metadata": {},
   "outputs": [],
   "source": []
  },
  {
   "cell_type": "code",
   "execution_count": null,
   "id": "61c0aba4-5992-4a3b-ae0b-c3d6c57f11c7",
   "metadata": {},
   "outputs": [],
   "source": []
  },
  {
   "cell_type": "code",
   "execution_count": null,
   "id": "51a4068a-f3e8-44c6-99af-2a14a6dd97c7",
   "metadata": {},
   "outputs": [],
   "source": []
  }
 ],
 "metadata": {
  "kernelspec": {
   "display_name": "Python 3 (ipykernel)",
   "language": "python",
   "name": "python3"
  },
  "language_info": {
   "codemirror_mode": {
    "name": "ipython",
    "version": 3
   },
   "file_extension": ".py",
   "mimetype": "text/x-python",
   "name": "python",
   "nbconvert_exporter": "python",
   "pygments_lexer": "ipython3",
   "version": "3.11.2"
  }
 },
 "nbformat": 4,
 "nbformat_minor": 5
}
