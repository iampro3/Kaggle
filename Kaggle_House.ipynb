{
 "cells": [
  {
   "cell_type": "code",
   "execution_count": 24,
   "id": "a08f4268-7f20-4839-a4f7-49f38b6190ad",
   "metadata": {
    "tags": []
   },
   "outputs": [
    {
     "name": "stdout",
     "output_type": "stream",
     "text": [
      "1.5.3\n",
      "1.24.2\n",
      "0.12.2\n",
      "3.7.1\n",
      "1.2.2\n"
     ]
    }
   ],
   "source": [
    "import pandas as pd\n",
    "import numpy as np\n",
    "import seaborn as sns\n",
    "import matplotlib as mpl\n",
    "import sklearn\n",
    "\n",
    "print(pd.__version__)\n",
    "print(np.__version__)\n",
    "print(sns.__version__)\n",
    "print(mpl.__version__)\n",
    "print(sklearn.__version__)"
   ]
  },
  {
   "cell_type": "code",
   "execution_count": 5,
   "id": "34cb53c8-b737-4a6c-9c27-91f4c95ed80d",
   "metadata": {
    "tags": []
   },
   "outputs": [
    {
     "name": "stdout",
     "output_type": "stream",
     "text": [
      "Requirement already satisfied: seaborn in c:\\users\\chloecho\\desktop\\kaggle\\venv\\lib\\site-packages (0.12.2)\n",
      "Requirement already satisfied: numpy!=1.24.0,>=1.17 in c:\\users\\chloecho\\desktop\\kaggle\\venv\\lib\\site-packages (from seaborn) (1.24.2)\n",
      "Requirement already satisfied: pandas>=0.25 in c:\\users\\chloecho\\desktop\\kaggle\\venv\\lib\\site-packages (from seaborn) (1.5.3)\n",
      "Requirement already satisfied: matplotlib!=3.6.1,>=3.1 in c:\\users\\chloecho\\desktop\\kaggle\\venv\\lib\\site-packages (from seaborn) (3.7.1)\n",
      "Requirement already satisfied: contourpy>=1.0.1 in c:\\users\\chloecho\\desktop\\kaggle\\venv\\lib\\site-packages (from matplotlib!=3.6.1,>=3.1->seaborn) (1.0.7)\n",
      "Requirement already satisfied: cycler>=0.10 in c:\\users\\chloecho\\desktop\\kaggle\\venv\\lib\\site-packages (from matplotlib!=3.6.1,>=3.1->seaborn) (0.11.0)\n",
      "Requirement already satisfied: fonttools>=4.22.0 in c:\\users\\chloecho\\desktop\\kaggle\\venv\\lib\\site-packages (from matplotlib!=3.6.1,>=3.1->seaborn) (4.39.2)\n",
      "Requirement already satisfied: kiwisolver>=1.0.1 in c:\\users\\chloecho\\desktop\\kaggle\\venv\\lib\\site-packages (from matplotlib!=3.6.1,>=3.1->seaborn) (1.4.4)\n",
      "Requirement already satisfied: packaging>=20.0 in c:\\users\\chloecho\\desktop\\kaggle\\venv\\lib\\site-packages (from matplotlib!=3.6.1,>=3.1->seaborn) (23.0)\n",
      "Requirement already satisfied: pillow>=6.2.0 in c:\\users\\chloecho\\desktop\\kaggle\\venv\\lib\\site-packages (from matplotlib!=3.6.1,>=3.1->seaborn) (9.4.0)\n",
      "Requirement already satisfied: pyparsing>=2.3.1 in c:\\users\\chloecho\\desktop\\kaggle\\venv\\lib\\site-packages (from matplotlib!=3.6.1,>=3.1->seaborn) (3.0.9)\n",
      "Requirement already satisfied: python-dateutil>=2.7 in c:\\users\\chloecho\\desktop\\kaggle\\venv\\lib\\site-packages (from matplotlib!=3.6.1,>=3.1->seaborn) (2.8.2)\n",
      "Requirement already satisfied: pytz>=2020.1 in c:\\users\\chloecho\\desktop\\kaggle\\venv\\lib\\site-packages (from pandas>=0.25->seaborn) (2023.2)\n",
      "Requirement already satisfied: six>=1.5 in c:\\users\\chloecho\\desktop\\kaggle\\venv\\lib\\site-packages (from python-dateutil>=2.7->matplotlib!=3.6.1,>=3.1->seaborn) (1.16.0)\n"
     ]
    }
   ],
   "source": [
    "!pip install seaborn"
   ]
  },
  {
   "cell_type": "code",
   "execution_count": 13,
   "id": "66c2e525-6842-4ac0-ab16-1419c256c521",
   "metadata": {
    "tags": []
   },
   "outputs": [
    {
     "name": "stdout",
     "output_type": "stream",
     "text": [
      "Requirement already satisfied: sklearn in c:\\users\\chloecho\\desktop\\kaggle\\venv\\lib\\site-packages (0.0.post1)\n"
     ]
    }
   ],
   "source": [
    "!pip install sklearn"
   ]
  },
  {
   "cell_type": "code",
   "execution_count": 16,
   "id": "bf217c0b-613e-4446-b4bc-1da8d824874d",
   "metadata": {
    "tags": []
   },
   "outputs": [
    {
     "data": {
      "text/html": [
       "<div>\n",
       "<style scoped>\n",
       "    .dataframe tbody tr th:only-of-type {\n",
       "        vertical-align: middle;\n",
       "    }\n",
       "\n",
       "    .dataframe tbody tr th {\n",
       "        vertical-align: top;\n",
       "    }\n",
       "\n",
       "    .dataframe thead th {\n",
       "        text-align: right;\n",
       "    }\n",
       "</style>\n",
       "<table border=\"1\" class=\"dataframe\">\n",
       "  <thead>\n",
       "    <tr style=\"text-align: right;\">\n",
       "      <th></th>\n",
       "      <th>Id</th>\n",
       "      <th>MSSubClass</th>\n",
       "      <th>MSZoning</th>\n",
       "      <th>LotFrontage</th>\n",
       "      <th>LotArea</th>\n",
       "      <th>Street</th>\n",
       "      <th>Alley</th>\n",
       "      <th>LotShape</th>\n",
       "      <th>LandContour</th>\n",
       "      <th>Utilities</th>\n",
       "      <th>...</th>\n",
       "      <th>PoolArea</th>\n",
       "      <th>PoolQC</th>\n",
       "      <th>Fence</th>\n",
       "      <th>MiscFeature</th>\n",
       "      <th>MiscVal</th>\n",
       "      <th>MoSold</th>\n",
       "      <th>YrSold</th>\n",
       "      <th>SaleType</th>\n",
       "      <th>SaleCondition</th>\n",
       "      <th>SalePrice</th>\n",
       "    </tr>\n",
       "  </thead>\n",
       "  <tbody>\n",
       "    <tr>\n",
       "      <th>0</th>\n",
       "      <td>1</td>\n",
       "      <td>60</td>\n",
       "      <td>RL</td>\n",
       "      <td>65.0</td>\n",
       "      <td>8450</td>\n",
       "      <td>Pave</td>\n",
       "      <td>NaN</td>\n",
       "      <td>Reg</td>\n",
       "      <td>Lvl</td>\n",
       "      <td>AllPub</td>\n",
       "      <td>...</td>\n",
       "      <td>0</td>\n",
       "      <td>NaN</td>\n",
       "      <td>NaN</td>\n",
       "      <td>NaN</td>\n",
       "      <td>0</td>\n",
       "      <td>2</td>\n",
       "      <td>2008</td>\n",
       "      <td>WD</td>\n",
       "      <td>Normal</td>\n",
       "      <td>208500</td>\n",
       "    </tr>\n",
       "  </tbody>\n",
       "</table>\n",
       "<p>1 rows × 81 columns</p>\n",
       "</div>"
      ],
      "text/plain": [
       "   Id  MSSubClass MSZoning  LotFrontage  LotArea Street Alley LotShape  \\\n",
       "0   1          60       RL         65.0     8450   Pave   NaN      Reg   \n",
       "\n",
       "  LandContour Utilities  ... PoolArea PoolQC Fence MiscFeature MiscVal MoSold  \\\n",
       "0         Lvl    AllPub  ...        0    NaN   NaN         NaN       0      2   \n",
       "\n",
       "  YrSold  SaleType  SaleCondition  SalePrice  \n",
       "0   2008        WD         Normal     208500  \n",
       "\n",
       "[1 rows x 81 columns]"
      ]
     },
     "execution_count": 16,
     "metadata": {},
     "output_type": "execute_result"
    }
   ],
   "source": [
    "DATA_PATH = 'house-prices-advanced-regression-techniques/'\n",
    "train = pd.read_csv(DATA_PATH + 'train.csv')\n",
    "test = pd.read_csv(DATA_PATH + 'test.csv')\n",
    "train.head(1)"
   ]
  },
  {
   "cell_type": "code",
   "execution_count": 18,
   "id": "2acbc581-332f-408f-ac09-c9b0d4de5c3d",
   "metadata": {
    "tags": []
   },
   "outputs": [
    {
     "data": {
      "text/html": [
       "<div>\n",
       "<style scoped>\n",
       "    .dataframe tbody tr th:only-of-type {\n",
       "        vertical-align: middle;\n",
       "    }\n",
       "\n",
       "    .dataframe tbody tr th {\n",
       "        vertical-align: top;\n",
       "    }\n",
       "\n",
       "    .dataframe thead th {\n",
       "        text-align: right;\n",
       "    }\n",
       "</style>\n",
       "<table border=\"1\" class=\"dataframe\">\n",
       "  <thead>\n",
       "    <tr style=\"text-align: right;\">\n",
       "      <th></th>\n",
       "      <th>Id</th>\n",
       "      <th>MSSubClass</th>\n",
       "      <th>MSZoning</th>\n",
       "      <th>LotFrontage</th>\n",
       "      <th>LotArea</th>\n",
       "      <th>Street</th>\n",
       "      <th>Alley</th>\n",
       "      <th>LotShape</th>\n",
       "      <th>LandContour</th>\n",
       "      <th>Utilities</th>\n",
       "      <th>...</th>\n",
       "      <th>ScreenPorch</th>\n",
       "      <th>PoolArea</th>\n",
       "      <th>PoolQC</th>\n",
       "      <th>Fence</th>\n",
       "      <th>MiscFeature</th>\n",
       "      <th>MiscVal</th>\n",
       "      <th>MoSold</th>\n",
       "      <th>YrSold</th>\n",
       "      <th>SaleType</th>\n",
       "      <th>SaleCondition</th>\n",
       "    </tr>\n",
       "  </thead>\n",
       "  <tbody>\n",
       "    <tr>\n",
       "      <th>0</th>\n",
       "      <td>1461</td>\n",
       "      <td>20</td>\n",
       "      <td>RH</td>\n",
       "      <td>80.0</td>\n",
       "      <td>11622</td>\n",
       "      <td>Pave</td>\n",
       "      <td>NaN</td>\n",
       "      <td>Reg</td>\n",
       "      <td>Lvl</td>\n",
       "      <td>AllPub</td>\n",
       "      <td>...</td>\n",
       "      <td>120</td>\n",
       "      <td>0</td>\n",
       "      <td>NaN</td>\n",
       "      <td>MnPrv</td>\n",
       "      <td>NaN</td>\n",
       "      <td>0</td>\n",
       "      <td>6</td>\n",
       "      <td>2010</td>\n",
       "      <td>WD</td>\n",
       "      <td>Normal</td>\n",
       "    </tr>\n",
       "  </tbody>\n",
       "</table>\n",
       "<p>1 rows × 80 columns</p>\n",
       "</div>"
      ],
      "text/plain": [
       "     Id  MSSubClass MSZoning  LotFrontage  LotArea Street Alley LotShape  \\\n",
       "0  1461          20       RH         80.0    11622   Pave   NaN      Reg   \n",
       "\n",
       "  LandContour Utilities  ... ScreenPorch PoolArea PoolQC  Fence MiscFeature  \\\n",
       "0         Lvl    AllPub  ...         120        0    NaN  MnPrv         NaN   \n",
       "\n",
       "  MiscVal MoSold  YrSold  SaleType  SaleCondition  \n",
       "0       0      6    2010        WD         Normal  \n",
       "\n",
       "[1 rows x 80 columns]"
      ]
     },
     "execution_count": 18,
     "metadata": {},
     "output_type": "execute_result"
    }
   ],
   "source": [
    "test.head(1)"
   ]
  },
  {
   "cell_type": "code",
   "execution_count": 22,
   "id": "8b400d7b-ea66-4917-b68d-4a7c384cb476",
   "metadata": {
    "tags": []
   },
   "outputs": [
    {
     "name": "stdout",
     "output_type": "stream",
     "text": [
      "Collecting scikit-learn\n",
      "  Downloading scikit_learn-1.2.2-cp311-cp311-win_amd64.whl (8.3 MB)\n",
      "     ---------------------------------------- 0.0/8.3 MB ? eta -:--:--\n",
      "     -- ------------------------------------- 0.4/8.3 MB 13.2 MB/s eta 0:00:01\n",
      "     ---- ----------------------------------- 0.9/8.3 MB 11.4 MB/s eta 0:00:01\n",
      "     ------ --------------------------------- 1.4/8.3 MB 10.7 MB/s eta 0:00:01\n",
      "     -------- ------------------------------- 1.9/8.3 MB 10.7 MB/s eta 0:00:01\n",
      "     ---------- ----------------------------- 2.2/8.3 MB 10.0 MB/s eta 0:00:01\n",
      "     ------------- -------------------------- 2.7/8.3 MB 10.1 MB/s eta 0:00:01\n",
      "     --------------- ------------------------ 3.2/8.3 MB 10.1 MB/s eta 0:00:01\n",
      "     ----------------- ---------------------- 3.7/8.3 MB 10.3 MB/s eta 0:00:01\n",
      "     -------------------- ------------------- 4.2/8.3 MB 10.2 MB/s eta 0:00:01\n",
      "     ---------------------- ----------------- 4.7/8.3 MB 10.4 MB/s eta 0:00:01\n",
      "     ------------------------ --------------- 5.1/8.3 MB 10.3 MB/s eta 0:00:01\n",
      "     --------------------------- ------------ 5.6/8.3 MB 10.3 MB/s eta 0:00:01\n",
      "     ----------------------------- ---------- 6.1/8.3 MB 10.2 MB/s eta 0:00:01\n",
      "     ------------------------------- -------- 6.5/8.3 MB 10.2 MB/s eta 0:00:01\n",
      "     ---------------------------------- ----- 7.0/8.3 MB 10.5 MB/s eta 0:00:01\n",
      "     ------------------------------------ --- 7.5/8.3 MB 10.2 MB/s eta 0:00:01\n",
      "     -------------------------------------- - 8.0/8.3 MB 10.2 MB/s eta 0:00:01\n",
      "     ---------------------------------------  8.3/8.3 MB 10.3 MB/s eta 0:00:01\n",
      "     ---------------------------------------- 8.3/8.3 MB 9.8 MB/s eta 0:00:00\n",
      "Requirement already satisfied: numpy>=1.17.3 in c:\\users\\chloecho\\desktop\\kaggle\\venv\\lib\\site-packages (from scikit-learn) (1.24.2)\n",
      "Collecting scipy>=1.3.2\n",
      "  Using cached scipy-1.10.1-cp311-cp311-win_amd64.whl (42.2 MB)\n",
      "Collecting joblib>=1.1.1\n",
      "  Using cached joblib-1.2.0-py3-none-any.whl (297 kB)\n",
      "Collecting threadpoolctl>=2.0.0\n",
      "  Downloading threadpoolctl-3.1.0-py3-none-any.whl (14 kB)\n",
      "Installing collected packages: threadpoolctl, scipy, joblib, scikit-learn\n",
      "Successfully installed joblib-1.2.0 scikit-learn-1.2.2 scipy-1.10.1 threadpoolctl-3.1.0\n"
     ]
    }
   ],
   "source": [
    "!pip install scikit-learn"
   ]
  },
  {
   "cell_type": "code",
   "execution_count": null,
   "id": "c746362b-adb7-4c9c-b5f7-9111e4bc2259",
   "metadata": {},
   "outputs": [],
   "source": [
    "- 데이터 정보를 확인.info()"
   ]
  },
  {
   "cell_type": "code",
   "execution_count": 23,
   "id": "05fffb3b-43eb-4c0f-bebc-3fdbe162d3dc",
   "metadata": {
    "tags": []
   },
   "outputs": [
    {
     "name": "stdout",
     "output_type": "stream",
     "text": [
      "<class 'pandas.core.frame.DataFrame'>\n",
      "RangeIndex: 1460 entries, 0 to 1459\n",
      "Data columns (total 81 columns):\n",
      " #   Column         Non-Null Count  Dtype  \n",
      "---  ------         --------------  -----  \n",
      " 0   Id             1460 non-null   int64  \n",
      " 1   MSSubClass     1460 non-null   int64  \n",
      " 2   MSZoning       1460 non-null   object \n",
      " 3   LotFrontage    1201 non-null   float64\n",
      " 4   LotArea        1460 non-null   int64  \n",
      " 5   Street         1460 non-null   object \n",
      " 6   Alley          91 non-null     object \n",
      " 7   LotShape       1460 non-null   object \n",
      " 8   LandContour    1460 non-null   object \n",
      " 9   Utilities      1460 non-null   object \n",
      " 10  LotConfig      1460 non-null   object \n",
      " 11  LandSlope      1460 non-null   object \n",
      " 12  Neighborhood   1460 non-null   object \n",
      " 13  Condition1     1460 non-null   object \n",
      " 14  Condition2     1460 non-null   object \n",
      " 15  BldgType       1460 non-null   object \n",
      " 16  HouseStyle     1460 non-null   object \n",
      " 17  OverallQual    1460 non-null   int64  \n",
      " 18  OverallCond    1460 non-null   int64  \n",
      " 19  YearBuilt      1460 non-null   int64  \n",
      " 20  YearRemodAdd   1460 non-null   int64  \n",
      " 21  RoofStyle      1460 non-null   object \n",
      " 22  RoofMatl       1460 non-null   object \n",
      " 23  Exterior1st    1460 non-null   object \n",
      " 24  Exterior2nd    1460 non-null   object \n",
      " 25  MasVnrType     1452 non-null   object \n",
      " 26  MasVnrArea     1452 non-null   float64\n",
      " 27  ExterQual      1460 non-null   object \n",
      " 28  ExterCond      1460 non-null   object \n",
      " 29  Foundation     1460 non-null   object \n",
      " 30  BsmtQual       1423 non-null   object \n",
      " 31  BsmtCond       1423 non-null   object \n",
      " 32  BsmtExposure   1422 non-null   object \n",
      " 33  BsmtFinType1   1423 non-null   object \n",
      " 34  BsmtFinSF1     1460 non-null   int64  \n",
      " 35  BsmtFinType2   1422 non-null   object \n",
      " 36  BsmtFinSF2     1460 non-null   int64  \n",
      " 37  BsmtUnfSF      1460 non-null   int64  \n",
      " 38  TotalBsmtSF    1460 non-null   int64  \n",
      " 39  Heating        1460 non-null   object \n",
      " 40  HeatingQC      1460 non-null   object \n",
      " 41  CentralAir     1460 non-null   object \n",
      " 42  Electrical     1459 non-null   object \n",
      " 43  1stFlrSF       1460 non-null   int64  \n",
      " 44  2ndFlrSF       1460 non-null   int64  \n",
      " 45  LowQualFinSF   1460 non-null   int64  \n",
      " 46  GrLivArea      1460 non-null   int64  \n",
      " 47  BsmtFullBath   1460 non-null   int64  \n",
      " 48  BsmtHalfBath   1460 non-null   int64  \n",
      " 49  FullBath       1460 non-null   int64  \n",
      " 50  HalfBath       1460 non-null   int64  \n",
      " 51  BedroomAbvGr   1460 non-null   int64  \n",
      " 52  KitchenAbvGr   1460 non-null   int64  \n",
      " 53  KitchenQual    1460 non-null   object \n",
      " 54  TotRmsAbvGrd   1460 non-null   int64  \n",
      " 55  Functional     1460 non-null   object \n",
      " 56  Fireplaces     1460 non-null   int64  \n",
      " 57  FireplaceQu    770 non-null    object \n",
      " 58  GarageType     1379 non-null   object \n",
      " 59  GarageYrBlt    1379 non-null   float64\n",
      " 60  GarageFinish   1379 non-null   object \n",
      " 61  GarageCars     1460 non-null   int64  \n",
      " 62  GarageArea     1460 non-null   int64  \n",
      " 63  GarageQual     1379 non-null   object \n",
      " 64  GarageCond     1379 non-null   object \n",
      " 65  PavedDrive     1460 non-null   object \n",
      " 66  WoodDeckSF     1460 non-null   int64  \n",
      " 67  OpenPorchSF    1460 non-null   int64  \n",
      " 68  EnclosedPorch  1460 non-null   int64  \n",
      " 69  3SsnPorch      1460 non-null   int64  \n",
      " 70  ScreenPorch    1460 non-null   int64  \n",
      " 71  PoolArea       1460 non-null   int64  \n",
      " 72  PoolQC         7 non-null      object \n",
      " 73  Fence          281 non-null    object \n",
      " 74  MiscFeature    54 non-null     object \n",
      " 75  MiscVal        1460 non-null   int64  \n",
      " 76  MoSold         1460 non-null   int64  \n",
      " 77  YrSold         1460 non-null   int64  \n",
      " 78  SaleType       1460 non-null   object \n",
      " 79  SaleCondition  1460 non-null   object \n",
      " 80  SalePrice      1460 non-null   int64  \n",
      "dtypes: float64(3), int64(35), object(43)\n",
      "memory usage: 924.0+ KB\n"
     ]
    }
   ],
   "source": [
    "train.info()"
   ]
  },
  {
   "cell_type": "code",
   "execution_count": 25,
   "id": "e4e997de-12b2-432a-af08-6d3a10e450a8",
   "metadata": {
    "tags": []
   },
   "outputs": [
    {
     "name": "stdout",
     "output_type": "stream",
     "text": [
      "<class 'pandas.core.frame.DataFrame'>\n",
      "RangeIndex: 1459 entries, 0 to 1458\n",
      "Data columns (total 80 columns):\n",
      " #   Column         Non-Null Count  Dtype  \n",
      "---  ------         --------------  -----  \n",
      " 0   Id             1459 non-null   int64  \n",
      " 1   MSSubClass     1459 non-null   int64  \n",
      " 2   MSZoning       1455 non-null   object \n",
      " 3   LotFrontage    1232 non-null   float64\n",
      " 4   LotArea        1459 non-null   int64  \n",
      " 5   Street         1459 non-null   object \n",
      " 6   Alley          107 non-null    object \n",
      " 7   LotShape       1459 non-null   object \n",
      " 8   LandContour    1459 non-null   object \n",
      " 9   Utilities      1457 non-null   object \n",
      " 10  LotConfig      1459 non-null   object \n",
      " 11  LandSlope      1459 non-null   object \n",
      " 12  Neighborhood   1459 non-null   object \n",
      " 13  Condition1     1459 non-null   object \n",
      " 14  Condition2     1459 non-null   object \n",
      " 15  BldgType       1459 non-null   object \n",
      " 16  HouseStyle     1459 non-null   object \n",
      " 17  OverallQual    1459 non-null   int64  \n",
      " 18  OverallCond    1459 non-null   int64  \n",
      " 19  YearBuilt      1459 non-null   int64  \n",
      " 20  YearRemodAdd   1459 non-null   int64  \n",
      " 21  RoofStyle      1459 non-null   object \n",
      " 22  RoofMatl       1459 non-null   object \n",
      " 23  Exterior1st    1458 non-null   object \n",
      " 24  Exterior2nd    1458 non-null   object \n",
      " 25  MasVnrType     1443 non-null   object \n",
      " 26  MasVnrArea     1444 non-null   float64\n",
      " 27  ExterQual      1459 non-null   object \n",
      " 28  ExterCond      1459 non-null   object \n",
      " 29  Foundation     1459 non-null   object \n",
      " 30  BsmtQual       1415 non-null   object \n",
      " 31  BsmtCond       1414 non-null   object \n",
      " 32  BsmtExposure   1415 non-null   object \n",
      " 33  BsmtFinType1   1417 non-null   object \n",
      " 34  BsmtFinSF1     1458 non-null   float64\n",
      " 35  BsmtFinType2   1417 non-null   object \n",
      " 36  BsmtFinSF2     1458 non-null   float64\n",
      " 37  BsmtUnfSF      1458 non-null   float64\n",
      " 38  TotalBsmtSF    1458 non-null   float64\n",
      " 39  Heating        1459 non-null   object \n",
      " 40  HeatingQC      1459 non-null   object \n",
      " 41  CentralAir     1459 non-null   object \n",
      " 42  Electrical     1459 non-null   object \n",
      " 43  1stFlrSF       1459 non-null   int64  \n",
      " 44  2ndFlrSF       1459 non-null   int64  \n",
      " 45  LowQualFinSF   1459 non-null   int64  \n",
      " 46  GrLivArea      1459 non-null   int64  \n",
      " 47  BsmtFullBath   1457 non-null   float64\n",
      " 48  BsmtHalfBath   1457 non-null   float64\n",
      " 49  FullBath       1459 non-null   int64  \n",
      " 50  HalfBath       1459 non-null   int64  \n",
      " 51  BedroomAbvGr   1459 non-null   int64  \n",
      " 52  KitchenAbvGr   1459 non-null   int64  \n",
      " 53  KitchenQual    1458 non-null   object \n",
      " 54  TotRmsAbvGrd   1459 non-null   int64  \n",
      " 55  Functional     1457 non-null   object \n",
      " 56  Fireplaces     1459 non-null   int64  \n",
      " 57  FireplaceQu    729 non-null    object \n",
      " 58  GarageType     1383 non-null   object \n",
      " 59  GarageYrBlt    1381 non-null   float64\n",
      " 60  GarageFinish   1381 non-null   object \n",
      " 61  GarageCars     1458 non-null   float64\n",
      " 62  GarageArea     1458 non-null   float64\n",
      " 63  GarageQual     1381 non-null   object \n",
      " 64  GarageCond     1381 non-null   object \n",
      " 65  PavedDrive     1459 non-null   object \n",
      " 66  WoodDeckSF     1459 non-null   int64  \n",
      " 67  OpenPorchSF    1459 non-null   int64  \n",
      " 68  EnclosedPorch  1459 non-null   int64  \n",
      " 69  3SsnPorch      1459 non-null   int64  \n",
      " 70  ScreenPorch    1459 non-null   int64  \n",
      " 71  PoolArea       1459 non-null   int64  \n",
      " 72  PoolQC         3 non-null      object \n",
      " 73  Fence          290 non-null    object \n",
      " 74  MiscFeature    51 non-null     object \n",
      " 75  MiscVal        1459 non-null   int64  \n",
      " 76  MoSold         1459 non-null   int64  \n",
      " 77  YrSold         1459 non-null   int64  \n",
      " 78  SaleType       1458 non-null   object \n",
      " 79  SaleCondition  1459 non-null   object \n",
      "dtypes: float64(11), int64(26), object(43)\n",
      "memory usage: 912.0+ KB\n"
     ]
    }
   ],
   "source": [
    "test.info()"
   ]
  },
  {
   "cell_type": "markdown",
   "id": "7e22538f-929c-4ab9-a844-604235c4ce25",
   "metadata": {},
   "source": [
    "- 결측치가 존재하는 것은, 나중에 처리를 해야 한다.\n",
    "--> 머신러닝, 딥러닝 하시는 분들에게 가장 난이도가 높은 작업"
   ]
  },
  {
   "cell_type": "markdown",
   "id": "5578cbd5-ddcf-4ee4-be35-bcf277127b86",
   "metadata": {
    "tags": []
   },
   "source": [
    "## Feature Engineering\n",
    "- Feature Engineering 책이 별도 존재\n",
    "- 수치형 데이터 접근\n",
    "- 문자형(범주형) 데이터 접근\n",
    "- 전체 데이터셋이 너무 크면, 축소하는 방법\n",
    "-(!** 고난이도 중요점) 파생 변수 생성\n",
    "-오렌지, 레몬 --> 합계 : 대표성이 있는 것. \n",
    "        : + 으로 만들었는데, 일반적으로 파생변수를 만들 때,\n",
    "            수학적인 함수를 활용해서 만든다.\n",
    "        ex) 실무에서는 함수화가 안 되어 있을 경우가 많아서 \n",
    "            실무자들이 수학논문들을 찾아서 직접 파생변수를 만들어야 한다.\n",
    "            그리고 테스트 한 후 성과가 좋으면, 실무네 적용한다.            "
   ]
  },
  {
   "cell_type": "markdown",
   "id": "343df531-618f-47f8-b795-4a2edd460c40",
   "metadata": {
    "tags": []
   },
   "source": [
    "# OverlallQual <4, SalePrice > 100000 \n",
    "- -> 주택 상태는 안 좋은데, 주택가격이 매우 높다.\n",
    "- 일반지역\n",
    "- 실무에서는 내가 직접 발로 확인해야 한다! 데이터가 왜 이렇게 나왔는지 확인 필요\n",
    "- 결측치/이상치를 현업과 직접 확인해서 삭제하거나 수정해야 한다.\n",
    "- 이 프로젝은 지도학습\n",
    "\n",
    "train =train.drop(train[(train['OverallQual']<4)&(train['SalesPrice'])].index)"
   ]
  },
  {
   "cell_type": "code",
   "execution_count": 34,
   "id": "d9d93544-9ad7-49a4-974d-4cbcdf866b2f",
   "metadata": {
    "tags": []
   },
   "outputs": [
    {
     "data": {
      "text/plain": [
       "(1455, 81)"
      ]
     },
     "execution_count": 34,
     "metadata": {},
     "output_type": "execute_result"
    }
   ],
   "source": [
    "train.shape"
   ]
  },
  {
   "cell_type": "code",
   "execution_count": 30,
   "id": "2013679f-f7f3-4661-b3ba-cb29dadded4d",
   "metadata": {
    "tags": []
   },
   "outputs": [
    {
     "data": {
      "text/plain": [
       "(1455, 81)"
      ]
     },
     "execution_count": 30,
     "metadata": {},
     "output_type": "execute_result"
    }
   ],
   "source": [
    "train = train.drop(train[(train['OverallQual'] < 4) & (train['SalePrice'] > 100000)].index)\n",
    "train.shape"
   ]
  },
  {
   "cell_type": "code",
   "execution_count": 35,
   "id": "36a5cdd0-8d63-4991-b63b-27523af9f4e0",
   "metadata": {
    "tags": []
   },
   "outputs": [
    {
     "data": {
      "text/html": [
       "<div>\n",
       "<style scoped>\n",
       "    .dataframe tbody tr th:only-of-type {\n",
       "        vertical-align: middle;\n",
       "    }\n",
       "\n",
       "    .dataframe tbody tr th {\n",
       "        vertical-align: top;\n",
       "    }\n",
       "\n",
       "    .dataframe thead th {\n",
       "        text-align: right;\n",
       "    }\n",
       "</style>\n",
       "<table border=\"1\" class=\"dataframe\">\n",
       "  <thead>\n",
       "    <tr style=\"text-align: right;\">\n",
       "      <th></th>\n",
       "      <th>Id</th>\n",
       "      <th>MSSubClass</th>\n",
       "      <th>MSZoning</th>\n",
       "      <th>LotFrontage</th>\n",
       "      <th>LotArea</th>\n",
       "      <th>Street</th>\n",
       "      <th>Alley</th>\n",
       "      <th>LotShape</th>\n",
       "      <th>LandContour</th>\n",
       "      <th>Utilities</th>\n",
       "      <th>...</th>\n",
       "      <th>PoolArea</th>\n",
       "      <th>PoolQC</th>\n",
       "      <th>Fence</th>\n",
       "      <th>MiscFeature</th>\n",
       "      <th>MiscVal</th>\n",
       "      <th>MoSold</th>\n",
       "      <th>YrSold</th>\n",
       "      <th>SaleType</th>\n",
       "      <th>SaleCondition</th>\n",
       "      <th>SalePrice</th>\n",
       "    </tr>\n",
       "  </thead>\n",
       "  <tbody>\n",
       "    <tr>\n",
       "      <th>0</th>\n",
       "      <td>1</td>\n",
       "      <td>60</td>\n",
       "      <td>RL</td>\n",
       "      <td>65.0</td>\n",
       "      <td>8450</td>\n",
       "      <td>Pave</td>\n",
       "      <td>NaN</td>\n",
       "      <td>Reg</td>\n",
       "      <td>Lvl</td>\n",
       "      <td>AllPub</td>\n",
       "      <td>...</td>\n",
       "      <td>0</td>\n",
       "      <td>NaN</td>\n",
       "      <td>NaN</td>\n",
       "      <td>NaN</td>\n",
       "      <td>0</td>\n",
       "      <td>2</td>\n",
       "      <td>2008</td>\n",
       "      <td>WD</td>\n",
       "      <td>Normal</td>\n",
       "      <td>208500</td>\n",
       "    </tr>\n",
       "  </tbody>\n",
       "</table>\n",
       "<p>1 rows × 81 columns</p>\n",
       "</div>"
      ],
      "text/plain": [
       "   Id  MSSubClass MSZoning  LotFrontage  LotArea Street Alley LotShape  \\\n",
       "0   1          60       RL         65.0     8450   Pave   NaN      Reg   \n",
       "\n",
       "  LandContour Utilities  ... PoolArea PoolQC Fence MiscFeature MiscVal MoSold  \\\n",
       "0         Lvl    AllPub  ...        0    NaN   NaN         NaN       0      2   \n",
       "\n",
       "  YrSold  SaleType  SaleCondition  SalePrice  \n",
       "0   2008        WD         Normal     208500  \n",
       "\n",
       "[1 rows x 81 columns]"
      ]
     },
     "execution_count": 35,
     "metadata": {},
     "output_type": "execute_result"
    }
   ],
   "source": [
    "train = train.reset_index(drop=True)\n",
    "train.head(1)"
   ]
  },
  {
   "cell_type": "markdown",
   "id": "cd4bb4d6-8092-497d-9ee6-2e8afb7cf970",
   "metadata": {
    "tags": []
   },
   "source": [
    "- 지도학습을 할 때는 종속변수의 분포를 확인해야 한다."
   ]
  },
  {
   "cell_type": "markdown",
   "id": "4123ce35-a393-4559-b688-c8dc1f35d4cd",
   "metadata": {},
   "source": [
    "- https://docs.scipy.org/doc/scipy/reference/generated/scipy.stats.norm.html"
   ]
  },
  {
   "cell_type": "code",
   "execution_count": 175,
   "id": "c3852bb1-f1fb-420a-846e-6cdd55142195",
   "metadata": {
    "tags": []
   },
   "outputs": [
    {
     "ename": "AttributeError",
     "evalue": "module 'numpy' has no attribute 'loglp'",
     "output_type": "error",
     "traceback": [
      "\u001b[1;31m---------------------------------------------------------------------------\u001b[0m",
      "\u001b[1;31mAttributeError\u001b[0m                            Traceback (most recent call last)",
      "Cell \u001b[1;32mIn[175], line 5\u001b[0m\n\u001b[0;32m      2\u001b[0m \u001b[38;5;28;01mimport\u001b[39;00m \u001b[38;5;21;01mmatplotlib\u001b[39;00m\u001b[38;5;21;01m.\u001b[39;00m\u001b[38;5;21;01mpyplot\u001b[39;00m \u001b[38;5;28;01mas\u001b[39;00m \u001b[38;5;21;01mplt\u001b[39;00m\n\u001b[0;32m      4\u001b[0m \u001b[38;5;66;03m# 로그변환 \u001b[39;00m\n\u001b[1;32m----> 5\u001b[0m train[\u001b[38;5;124m'\u001b[39m\u001b[38;5;124mSalePrice\u001b[39m\u001b[38;5;124m'\u001b[39m] \u001b[38;5;241m=\u001b[39m \u001b[43mnp\u001b[49m\u001b[38;5;241;43m.\u001b[39;49m\u001b[43mloglp\u001b[49m(train[\u001b[38;5;124m'\u001b[39m\u001b[38;5;124mSalePrice\u001b[39m\u001b[38;5;124m'\u001b[39m])\n\u001b[0;32m      7\u001b[0m \u001b[38;5;66;03m# 평균 표준편차\u001b[39;00m\n\u001b[0;32m      8\u001b[0m (mu, sigma) \u001b[38;5;241m=\u001b[39m norm\u001b[38;5;241m.\u001b[39mfit(train[\u001b[38;5;124m'\u001b[39m\u001b[38;5;124mSalePrice\u001b[39m\u001b[38;5;124m'\u001b[39m])\n",
      "File \u001b[1;32m~\\Desktop\\Kaggle\\venv\\Lib\\site-packages\\numpy\\__init__.py:320\u001b[0m, in \u001b[0;36m__getattr__\u001b[1;34m(attr)\u001b[0m\n\u001b[0;32m    317\u001b[0m     \u001b[38;5;28;01mfrom\u001b[39;00m \u001b[38;5;21;01m.\u001b[39;00m\u001b[38;5;21;01mtesting\u001b[39;00m \u001b[38;5;28;01mimport\u001b[39;00m Tester\n\u001b[0;32m    318\u001b[0m     \u001b[38;5;28;01mreturn\u001b[39;00m Tester\n\u001b[1;32m--> 320\u001b[0m \u001b[38;5;28;01mraise\u001b[39;00m \u001b[38;5;167;01mAttributeError\u001b[39;00m(\u001b[38;5;124m\"\u001b[39m\u001b[38;5;124mmodule \u001b[39m\u001b[38;5;132;01m{!r}\u001b[39;00m\u001b[38;5;124m has no attribute \u001b[39m\u001b[38;5;124m\"\u001b[39m\n\u001b[0;32m    321\u001b[0m                      \u001b[38;5;124m\"\u001b[39m\u001b[38;5;132;01m{!r}\u001b[39;00m\u001b[38;5;124m\"\u001b[39m\u001b[38;5;241m.\u001b[39mformat(\u001b[38;5;18m__name__\u001b[39m, attr))\n",
      "\u001b[1;31mAttributeError\u001b[0m: module 'numpy' has no attribute 'loglp'"
     ]
    }
   ],
   "source": [
    "from scipy.stats import norm\n",
    "import matplotlib.pyplot as plt\n",
    "\n",
    "# 로그변환 \n",
    "train['SalePrice'] = np.loglp(train['SalePrice'])\n",
    "\n",
    "# 평균 표준편차\n",
    "(mu, sigma) = norm.fit(train['SalePrice'])\n",
    "print(mu, sigma)\n",
    "\n",
    "fix, ax = plt.subplots(figsize=(10,6))\n",
    "sns.histplot(train['SalePrice'], color = 'b', stat='probability')\n",
    "ax.set_title('SalePrice Distribution')\n",
    "ax.set_xlabel('SalePrice')\n",
    "ax.set_ylabel('Frequency')\n",
    "\n",
    "ax.axvline(mu, color='r', linestyle='--')\n",
    "#ax.text(mu+ 10000, 0.11, 'Mean of SalePrice')\n",
    "\n",
    "# 로그변환 위해 수치 수정\n",
    "ax.text(mu+ 0.05, 0.111, 'Mean of SalePrice')\n",
    "\n",
    "plt.show()             "
   ]
  },
  {
   "cell_type": "markdown",
   "id": "bf508422-a011-4b3a-be24-0a3b534c171c",
   "metadata": {},
   "source": [
    "- 빈도주의 : 여러 통계 이론 존재\n",
    "    +---> 전제조건 : 표준정규분포\n",
    "    +---> 통계 이론이 정상적으로 작동을 하려면, 분포가 정규분포여야만 작동을 한다.\n",
    "    +----> 이론 자체가 정상 분포 위에 구축되었기 때문이다.\n",
    "    +----> 강제로 정규화 해야 한다.\n",
    "    +----> 로그변환 한다."
   ]
  },
  {
   "cell_type": "code",
   "execution_count": 176,
   "id": "de6a657f-2585-468a-9812-c857911c4125",
   "metadata": {
    "tags": []
   },
   "outputs": [
    {
     "ename": "KeyError",
     "evalue": "'SalePrice'",
     "output_type": "error",
     "traceback": [
      "\u001b[1;31m---------------------------------------------------------------------------\u001b[0m",
      "\u001b[1;31mKeyError\u001b[0m                                  Traceback (most recent call last)",
      "File \u001b[1;32m~\\Desktop\\Kaggle\\venv\\Lib\\site-packages\\pandas\\core\\indexes\\base.py:3802\u001b[0m, in \u001b[0;36mIndex.get_loc\u001b[1;34m(self, key, method, tolerance)\u001b[0m\n\u001b[0;32m   3801\u001b[0m \u001b[38;5;28;01mtry\u001b[39;00m:\n\u001b[1;32m-> 3802\u001b[0m     \u001b[38;5;28;01mreturn\u001b[39;00m \u001b[38;5;28;43mself\u001b[39;49m\u001b[38;5;241;43m.\u001b[39;49m\u001b[43m_engine\u001b[49m\u001b[38;5;241;43m.\u001b[39;49m\u001b[43mget_loc\u001b[49m\u001b[43m(\u001b[49m\u001b[43mcasted_key\u001b[49m\u001b[43m)\u001b[49m\n\u001b[0;32m   3803\u001b[0m \u001b[38;5;28;01mexcept\u001b[39;00m \u001b[38;5;167;01mKeyError\u001b[39;00m \u001b[38;5;28;01mas\u001b[39;00m err:\n",
      "File \u001b[1;32m~\\Desktop\\Kaggle\\venv\\Lib\\site-packages\\pandas\\_libs\\index.pyx:138\u001b[0m, in \u001b[0;36mpandas._libs.index.IndexEngine.get_loc\u001b[1;34m()\u001b[0m\n",
      "File \u001b[1;32m~\\Desktop\\Kaggle\\venv\\Lib\\site-packages\\pandas\\_libs\\index.pyx:165\u001b[0m, in \u001b[0;36mpandas._libs.index.IndexEngine.get_loc\u001b[1;34m()\u001b[0m\n",
      "File \u001b[1;32mpandas\\_libs\\hashtable_class_helper.pxi:5745\u001b[0m, in \u001b[0;36mpandas._libs.hashtable.PyObjectHashTable.get_item\u001b[1;34m()\u001b[0m\n",
      "File \u001b[1;32mpandas\\_libs\\hashtable_class_helper.pxi:5753\u001b[0m, in \u001b[0;36mpandas._libs.hashtable.PyObjectHashTable.get_item\u001b[1;34m()\u001b[0m\n",
      "\u001b[1;31mKeyError\u001b[0m: 'SalePrice'",
      "\nThe above exception was the direct cause of the following exception:\n",
      "\u001b[1;31mKeyError\u001b[0m                                  Traceback (most recent call last)",
      "Cell \u001b[1;32mIn[176], line 10\u001b[0m\n\u001b[0;32m      2\u001b[0m \u001b[38;5;28;01mimport\u001b[39;00m \u001b[38;5;21;01mmatplotlib\u001b[39;00m\u001b[38;5;21;01m.\u001b[39;00m\u001b[38;5;21;01mpyplot\u001b[39;00m \u001b[38;5;28;01mas\u001b[39;00m \u001b[38;5;21;01mplt\u001b[39;00m\n\u001b[0;32m      4\u001b[0m \u001b[38;5;66;03m# 평균, 표준편차\u001b[39;00m\n\u001b[0;32m      5\u001b[0m \u001b[38;5;66;03m# 선형모델 : 선형회귀, SVM 은 무조건 로그변환 해야한다.\u001b[39;00m\n\u001b[0;32m      6\u001b[0m \u001b[38;5;66;03m# 트리모델 : 이런 변환은 굳이 할 필요가 없다.\u001b[39;00m\n\u001b[0;32m      7\u001b[0m \u001b[38;5;66;03m# 선형 모델이 좋을 지, 트리모델이 좋을 지, 우리는 모르기 때문에 모두 변환한다.\u001b[39;00m\n\u001b[0;32m      8\u001b[0m \u001b[38;5;66;03m# 로그 변환 명령\u001b[39;00m\n\u001b[1;32m---> 10\u001b[0m train[\u001b[38;5;124m'\u001b[39m\u001b[38;5;124mSalePrice\u001b[39m\u001b[38;5;124m'\u001b[39m] \u001b[38;5;241m=\u001b[39m np\u001b[38;5;241m.\u001b[39mlog1p(\u001b[43mtrain\u001b[49m\u001b[43m[\u001b[49m\u001b[38;5;124;43m'\u001b[39;49m\u001b[38;5;124;43mSalePrice\u001b[39;49m\u001b[38;5;124;43m'\u001b[39;49m\u001b[43m]\u001b[49m)\n\u001b[0;32m     12\u001b[0m (mu, sigma) \u001b[38;5;241m=\u001b[39m norm\u001b[38;5;241m.\u001b[39mfit(train[\u001b[38;5;124m'\u001b[39m\u001b[38;5;124mSalePrice\u001b[39m\u001b[38;5;124m'\u001b[39m])\n\u001b[0;32m     13\u001b[0m \u001b[38;5;28mprint\u001b[39m(mu, sigma)\n",
      "File \u001b[1;32m~\\Desktop\\Kaggle\\venv\\Lib\\site-packages\\pandas\\core\\frame.py:3807\u001b[0m, in \u001b[0;36mDataFrame.__getitem__\u001b[1;34m(self, key)\u001b[0m\n\u001b[0;32m   3805\u001b[0m \u001b[38;5;28;01mif\u001b[39;00m \u001b[38;5;28mself\u001b[39m\u001b[38;5;241m.\u001b[39mcolumns\u001b[38;5;241m.\u001b[39mnlevels \u001b[38;5;241m>\u001b[39m \u001b[38;5;241m1\u001b[39m:\n\u001b[0;32m   3806\u001b[0m     \u001b[38;5;28;01mreturn\u001b[39;00m \u001b[38;5;28mself\u001b[39m\u001b[38;5;241m.\u001b[39m_getitem_multilevel(key)\n\u001b[1;32m-> 3807\u001b[0m indexer \u001b[38;5;241m=\u001b[39m \u001b[38;5;28;43mself\u001b[39;49m\u001b[38;5;241;43m.\u001b[39;49m\u001b[43mcolumns\u001b[49m\u001b[38;5;241;43m.\u001b[39;49m\u001b[43mget_loc\u001b[49m\u001b[43m(\u001b[49m\u001b[43mkey\u001b[49m\u001b[43m)\u001b[49m\n\u001b[0;32m   3808\u001b[0m \u001b[38;5;28;01mif\u001b[39;00m is_integer(indexer):\n\u001b[0;32m   3809\u001b[0m     indexer \u001b[38;5;241m=\u001b[39m [indexer]\n",
      "File \u001b[1;32m~\\Desktop\\Kaggle\\venv\\Lib\\site-packages\\pandas\\core\\indexes\\base.py:3804\u001b[0m, in \u001b[0;36mIndex.get_loc\u001b[1;34m(self, key, method, tolerance)\u001b[0m\n\u001b[0;32m   3802\u001b[0m     \u001b[38;5;28;01mreturn\u001b[39;00m \u001b[38;5;28mself\u001b[39m\u001b[38;5;241m.\u001b[39m_engine\u001b[38;5;241m.\u001b[39mget_loc(casted_key)\n\u001b[0;32m   3803\u001b[0m \u001b[38;5;28;01mexcept\u001b[39;00m \u001b[38;5;167;01mKeyError\u001b[39;00m \u001b[38;5;28;01mas\u001b[39;00m err:\n\u001b[1;32m-> 3804\u001b[0m     \u001b[38;5;28;01mraise\u001b[39;00m \u001b[38;5;167;01mKeyError\u001b[39;00m(key) \u001b[38;5;28;01mfrom\u001b[39;00m \u001b[38;5;21;01merr\u001b[39;00m\n\u001b[0;32m   3805\u001b[0m \u001b[38;5;28;01mexcept\u001b[39;00m \u001b[38;5;167;01mTypeError\u001b[39;00m:\n\u001b[0;32m   3806\u001b[0m     \u001b[38;5;66;03m# If we have a listlike key, _check_indexing_error will raise\u001b[39;00m\n\u001b[0;32m   3807\u001b[0m     \u001b[38;5;66;03m#  InvalidIndexError. Otherwise we fall through and re-raise\u001b[39;00m\n\u001b[0;32m   3808\u001b[0m     \u001b[38;5;66;03m#  the TypeError.\u001b[39;00m\n\u001b[0;32m   3809\u001b[0m     \u001b[38;5;28mself\u001b[39m\u001b[38;5;241m.\u001b[39m_check_indexing_error(key)\n",
      "\u001b[1;31mKeyError\u001b[0m: 'SalePrice'"
     ]
    }
   ],
   "source": [
    "from scipy.stats import norm\n",
    "import matplotlib.pyplot as plt\n",
    "\n",
    "# 평균, 표준편차\n",
    "# 선형모델 : 선형회귀, SVM 은 무조건 로그변환 해야한다.\n",
    "# 트리모델 : 이런 변환은 굳이 할 필요가 없다.\n",
    "# 선형 모델이 좋을 지, 트리모델이 좋을 지, 우리는 모르기 때문에 모두 변환한다.\n",
    "# 로그 변환 명령\n",
    "\n",
    "train['SalePrice'] = np.log1p(train['SalePrice'])\n",
    "\n",
    "(mu, sigma) = norm.fit(train['SalePrice'])\n",
    "print(mu, sigma)\n",
    "\n",
    "fig, ax = plt.subplots(figsize=(10, 6))\n",
    "sns.histplot(train['SalePrice'], color='b', stat='probability')\n",
    "ax.set_title('SalePrice Distribution')\n",
    "ax.set_xlabel('SalePrice')\n",
    "ax.set_ylabel('Frequency')\n",
    "\n",
    "ax.axvline(mu, color = 'r', linestyle='--')\n",
    "#로그변환값\n",
    "ax.text(mu + 0.05, 0.111, 'Mean of SalePrice')\n",
    "\n",
    "plt.show()"
   ]
  },
  {
   "cell_type": "markdown",
   "id": "ac5f1228-4168-436a-934b-3254a06be4d4",
   "metadata": {
    "tags": []
   },
   "source": [
    "## 컬럼 일부 제거"
   ]
  },
  {
   "cell_type": "markdown",
   "id": "827d9b14-f66e-4503-99ff-d17537f9c600",
   "metadata": {},
   "source": [
    "- id는 꼭 지워야 한다.패턴이 없기 때문에 필요 없는 데이터는 지운다."
   ]
  },
  {
   "cell_type": "code",
   "execution_count": 54,
   "id": "3a17e927-f4d2-4321-a633-59457958da4d",
   "metadata": {
    "tags": []
   },
   "outputs": [
    {
     "data": {
      "text/plain": [
       "0          1\n",
       "1          2\n",
       "2          3\n",
       "3          4\n",
       "4          5\n",
       "        ... \n",
       "1450    1456\n",
       "1451    1457\n",
       "1452    1458\n",
       "1453    1459\n",
       "1454    1460\n",
       "Name: Id, Length: 1455, dtype: int64"
      ]
     },
     "execution_count": 54,
     "metadata": {},
     "output_type": "execute_result"
    }
   ],
   "source": [
    "train['Id'] "
   ]
  },
  {
   "cell_type": "code",
   "execution_count": 56,
   "id": "099a651e-699c-45a0-9089-d34265ffcaf2",
   "metadata": {
    "tags": []
   },
   "outputs": [
    {
     "name": "stdout",
     "output_type": "stream",
     "text": [
      "<class 'pandas.core.frame.DataFrame'>\n",
      "RangeIndex: 1455 entries, 0 to 1454\n",
      "Data columns (total 81 columns):\n",
      " #   Column         Non-Null Count  Dtype  \n",
      "---  ------         --------------  -----  \n",
      " 0   Id             1455 non-null   int64  \n",
      " 1   MSSubClass     1455 non-null   int64  \n",
      " 2   MSZoning       1455 non-null   object \n",
      " 3   LotFrontage    1197 non-null   float64\n",
      " 4   LotArea        1455 non-null   int64  \n",
      " 5   Street         1455 non-null   object \n",
      " 6   Alley          90 non-null     object \n",
      " 7   LotShape       1455 non-null   object \n",
      " 8   LandContour    1455 non-null   object \n",
      " 9   Utilities      1455 non-null   object \n",
      " 10  LotConfig      1455 non-null   object \n",
      " 11  LandSlope      1455 non-null   object \n",
      " 12  Neighborhood   1455 non-null   object \n",
      " 13  Condition1     1455 non-null   object \n",
      " 14  Condition2     1455 non-null   object \n",
      " 15  BldgType       1455 non-null   object \n",
      " 16  HouseStyle     1455 non-null   object \n",
      " 17  OverallQual    1455 non-null   int64  \n",
      " 18  OverallCond    1455 non-null   int64  \n",
      " 19  YearBuilt      1455 non-null   int64  \n",
      " 20  YearRemodAdd   1455 non-null   int64  \n",
      " 21  RoofStyle      1455 non-null   object \n",
      " 22  RoofMatl       1455 non-null   object \n",
      " 23  Exterior1st    1455 non-null   object \n",
      " 24  Exterior2nd    1455 non-null   object \n",
      " 25  MasVnrType     1447 non-null   object \n",
      " 26  MasVnrArea     1447 non-null   float64\n",
      " 27  ExterQual      1455 non-null   object \n",
      " 28  ExterCond      1455 non-null   object \n",
      " 29  Foundation     1455 non-null   object \n",
      " 30  BsmtQual       1419 non-null   object \n",
      " 31  BsmtCond       1419 non-null   object \n",
      " 32  BsmtExposure   1418 non-null   object \n",
      " 33  BsmtFinType1   1419 non-null   object \n",
      " 34  BsmtFinSF1     1455 non-null   int64  \n",
      " 35  BsmtFinType2   1418 non-null   object \n",
      " 36  BsmtFinSF2     1455 non-null   int64  \n",
      " 37  BsmtUnfSF      1455 non-null   int64  \n",
      " 38  TotalBsmtSF    1455 non-null   int64  \n",
      " 39  Heating        1455 non-null   object \n",
      " 40  HeatingQC      1455 non-null   object \n",
      " 41  CentralAir     1455 non-null   object \n",
      " 42  Electrical     1454 non-null   object \n",
      " 43  1stFlrSF       1455 non-null   int64  \n",
      " 44  2ndFlrSF       1455 non-null   int64  \n",
      " 45  LowQualFinSF   1455 non-null   int64  \n",
      " 46  GrLivArea      1455 non-null   int64  \n",
      " 47  BsmtFullBath   1455 non-null   int64  \n",
      " 48  BsmtHalfBath   1455 non-null   int64  \n",
      " 49  FullBath       1455 non-null   int64  \n",
      " 50  HalfBath       1455 non-null   int64  \n",
      " 51  BedroomAbvGr   1455 non-null   int64  \n",
      " 52  KitchenAbvGr   1455 non-null   int64  \n",
      " 53  KitchenQual    1455 non-null   object \n",
      " 54  TotRmsAbvGrd   1455 non-null   int64  \n",
      " 55  Functional     1455 non-null   object \n",
      " 56  Fireplaces     1455 non-null   int64  \n",
      " 57  FireplaceQu    769 non-null    object \n",
      " 58  GarageType     1374 non-null   object \n",
      " 59  GarageYrBlt    1374 non-null   float64\n",
      " 60  GarageFinish   1374 non-null   object \n",
      " 61  GarageCars     1455 non-null   int64  \n",
      " 62  GarageArea     1455 non-null   int64  \n",
      " 63  GarageQual     1374 non-null   object \n",
      " 64  GarageCond     1374 non-null   object \n",
      " 65  PavedDrive     1455 non-null   object \n",
      " 66  WoodDeckSF     1455 non-null   int64  \n",
      " 67  OpenPorchSF    1455 non-null   int64  \n",
      " 68  EnclosedPorch  1455 non-null   int64  \n",
      " 69  3SsnPorch      1455 non-null   int64  \n",
      " 70  ScreenPorch    1455 non-null   int64  \n",
      " 71  PoolArea       1455 non-null   int64  \n",
      " 72  PoolQC         7 non-null      object \n",
      " 73  Fence          280 non-null    object \n",
      " 74  MiscFeature    54 non-null     object \n",
      " 75  MiscVal        1455 non-null   int64  \n",
      " 76  MoSold         1455 non-null   int64  \n",
      " 77  YrSold         1455 non-null   int64  \n",
      " 78  SaleType       1455 non-null   object \n",
      " 79  SaleCondition  1455 non-null   object \n",
      " 80  SalePrice      1455 non-null   float64\n",
      "dtypes: float64(4), int64(34), object(43)\n",
      "memory usage: 920.9+ KB\n"
     ]
    }
   ],
   "source": [
    "train.info()"
   ]
  },
  {
   "cell_type": "code",
   "execution_count": 55,
   "id": "efd6d0a1-cb07-4871-b488-3b43e18527cb",
   "metadata": {
    "tags": []
   },
   "outputs": [
    {
     "data": {
      "text/html": [
       "<div>\n",
       "<style scoped>\n",
       "    .dataframe tbody tr th:only-of-type {\n",
       "        vertical-align: middle;\n",
       "    }\n",
       "\n",
       "    .dataframe tbody tr th {\n",
       "        vertical-align: top;\n",
       "    }\n",
       "\n",
       "    .dataframe thead th {\n",
       "        text-align: right;\n",
       "    }\n",
       "</style>\n",
       "<table border=\"1\" class=\"dataframe\">\n",
       "  <thead>\n",
       "    <tr style=\"text-align: right;\">\n",
       "      <th></th>\n",
       "      <th>Id</th>\n",
       "      <th>MSSubClass</th>\n",
       "      <th>MSZoning</th>\n",
       "      <th>LotFrontage</th>\n",
       "      <th>LotArea</th>\n",
       "      <th>Street</th>\n",
       "      <th>Alley</th>\n",
       "      <th>LotShape</th>\n",
       "      <th>LandContour</th>\n",
       "      <th>Utilities</th>\n",
       "      <th>...</th>\n",
       "      <th>PoolArea</th>\n",
       "      <th>PoolQC</th>\n",
       "      <th>Fence</th>\n",
       "      <th>MiscFeature</th>\n",
       "      <th>MiscVal</th>\n",
       "      <th>MoSold</th>\n",
       "      <th>YrSold</th>\n",
       "      <th>SaleType</th>\n",
       "      <th>SaleCondition</th>\n",
       "      <th>SalePrice</th>\n",
       "    </tr>\n",
       "  </thead>\n",
       "  <tbody>\n",
       "    <tr>\n",
       "      <th>0</th>\n",
       "      <td>1</td>\n",
       "      <td>60</td>\n",
       "      <td>RL</td>\n",
       "      <td>65.0</td>\n",
       "      <td>8450</td>\n",
       "      <td>Pave</td>\n",
       "      <td>NaN</td>\n",
       "      <td>Reg</td>\n",
       "      <td>Lvl</td>\n",
       "      <td>AllPub</td>\n",
       "      <td>...</td>\n",
       "      <td>0</td>\n",
       "      <td>NaN</td>\n",
       "      <td>NaN</td>\n",
       "      <td>NaN</td>\n",
       "      <td>0</td>\n",
       "      <td>2</td>\n",
       "      <td>2008</td>\n",
       "      <td>WD</td>\n",
       "      <td>Normal</td>\n",
       "      <td>12.247699</td>\n",
       "    </tr>\n",
       "    <tr>\n",
       "      <th>1</th>\n",
       "      <td>2</td>\n",
       "      <td>20</td>\n",
       "      <td>RL</td>\n",
       "      <td>80.0</td>\n",
       "      <td>9600</td>\n",
       "      <td>Pave</td>\n",
       "      <td>NaN</td>\n",
       "      <td>Reg</td>\n",
       "      <td>Lvl</td>\n",
       "      <td>AllPub</td>\n",
       "      <td>...</td>\n",
       "      <td>0</td>\n",
       "      <td>NaN</td>\n",
       "      <td>NaN</td>\n",
       "      <td>NaN</td>\n",
       "      <td>0</td>\n",
       "      <td>5</td>\n",
       "      <td>2007</td>\n",
       "      <td>WD</td>\n",
       "      <td>Normal</td>\n",
       "      <td>12.109016</td>\n",
       "    </tr>\n",
       "    <tr>\n",
       "      <th>2</th>\n",
       "      <td>3</td>\n",
       "      <td>60</td>\n",
       "      <td>RL</td>\n",
       "      <td>68.0</td>\n",
       "      <td>11250</td>\n",
       "      <td>Pave</td>\n",
       "      <td>NaN</td>\n",
       "      <td>IR1</td>\n",
       "      <td>Lvl</td>\n",
       "      <td>AllPub</td>\n",
       "      <td>...</td>\n",
       "      <td>0</td>\n",
       "      <td>NaN</td>\n",
       "      <td>NaN</td>\n",
       "      <td>NaN</td>\n",
       "      <td>0</td>\n",
       "      <td>9</td>\n",
       "      <td>2008</td>\n",
       "      <td>WD</td>\n",
       "      <td>Normal</td>\n",
       "      <td>12.317171</td>\n",
       "    </tr>\n",
       "  </tbody>\n",
       "</table>\n",
       "<p>3 rows × 81 columns</p>\n",
       "</div>"
      ],
      "text/plain": [
       "   Id  MSSubClass MSZoning  LotFrontage  LotArea Street Alley LotShape  \\\n",
       "0   1          60       RL         65.0     8450   Pave   NaN      Reg   \n",
       "1   2          20       RL         80.0     9600   Pave   NaN      Reg   \n",
       "2   3          60       RL         68.0    11250   Pave   NaN      IR1   \n",
       "\n",
       "  LandContour Utilities  ... PoolArea PoolQC Fence MiscFeature MiscVal MoSold  \\\n",
       "0         Lvl    AllPub  ...        0    NaN   NaN         NaN       0      2   \n",
       "1         Lvl    AllPub  ...        0    NaN   NaN         NaN       0      5   \n",
       "2         Lvl    AllPub  ...        0    NaN   NaN         NaN       0      9   \n",
       "\n",
       "  YrSold  SaleType  SaleCondition  SalePrice  \n",
       "0   2008        WD         Normal  12.247699  \n",
       "1   2007        WD         Normal  12.109016  \n",
       "2   2008        WD         Normal  12.317171  \n",
       "\n",
       "[3 rows x 81 columns]"
      ]
     },
     "execution_count": 55,
     "metadata": {},
     "output_type": "execute_result"
    }
   ],
   "source": [
    "train.head(3)"
   ]
  },
  {
   "cell_type": "markdown",
   "id": "fab66199-0355-4e56-b155-349ed4398b37",
   "metadata": {},
   "source": [
    "- 머신러닝, 딥러닝 할 때, 패턴을 습득해야 한다.\n",
    "- 비 정형 데이터는 인공신경망으로 돌린다.\n",
    "- 알고리즘 의미가 없다.\n",
    "- 어떤 데이터를 지울 것인가? 모든 리스트의 항목들이 집 값에 영향을 미치는지 조사해서 \n",
    "하나씩 지워가야 한다.\n",
    "    + 17  OverallQual    1455 non-null   int64  : 집의 외장재를 의미\n",
    "    + 18  OverallCond "
   ]
  },
  {
   "cell_type": "code",
   "execution_count": 57,
   "id": "b6895f0b-ddef-4ef3-9ac9-daaef1c09a70",
   "metadata": {
    "tags": []
   },
   "outputs": [
    {
     "data": {
      "text/plain": [
       "((1455, 80), (1459, 79))"
      ]
     },
     "execution_count": 57,
     "metadata": {},
     "output_type": "execute_result"
    }
   ],
   "source": [
    "train_ID = train['Id']\n",
    "test_ID = test['Id']\n",
    "train = train.drop(['Id'], axis =1)\n",
    "test = test.drop(['Id'], axis =1)\n",
    "\n",
    "train.shape, test.shape"
   ]
  },
  {
   "cell_type": "code",
   "execution_count": null,
   "id": "3d112e3e-386e-439a-b98c-783fd00fd031",
   "metadata": {},
   "outputs": [],
   "source": [
    "-값만 추출"
   ]
  },
  {
   "cell_type": "code",
   "execution_count": 58,
   "id": "1d993908-895f-43e1-a172-9ae07b6746af",
   "metadata": {
    "tags": []
   },
   "outputs": [
    {
     "data": {
      "text/plain": [
       "((1455, 79), (1459, 79), (1455,))"
      ]
     },
     "execution_count": 58,
     "metadata": {},
     "output_type": "execute_result"
    }
   ],
   "source": [
    "y = train['SalePrice'].reset_index(drop=True)\n",
    "train = train.drop(['SalePrice'], axis =1)\n",
    "\n",
    "train.shape, test.shape, y.shape"
   ]
  },
  {
   "cell_type": "markdown",
   "id": "2527bffb-6cff-49ac-99e7-51c21f9c8547",
   "metadata": {},
   "source": [
    "## 데이터 전처리\n",
    "-한 번에 진행할 예정\n",
    "-실무에서는 이렇게 하면 안 된다. (이유 : Data Leakage 피하기 위해서)\n",
    "- 평균치로 측정하는 것이 나쁜 것이 아니다. -> 평균치를 선택한 사유만 명확하게 설명하면 된다"
   ]
  },
  {
   "cell_type": "code",
   "execution_count": 60,
   "id": "5c3f86c3-ae85-49f5-be22-88e87e3b8b03",
   "metadata": {
    "tags": []
   },
   "outputs": [
    {
     "data": {
      "text/plain": [
       "(2914, 79)"
      ]
     },
     "execution_count": 60,
     "metadata": {},
     "output_type": "execute_result"
    }
   ],
   "source": [
    "# 데이터 합치기 ; train+test data\n",
    "all_df = pd.concat([train,test]).reset_index(drop=True)\n",
    "all_df.shape"
   ]
  },
  {
   "cell_type": "markdown",
   "id": "015a027e-42a3-49d2-9aba-42c7b9533f5a",
   "metadata": {},
   "source": [
    "## 결측치 확인 코드 -- 하기 코드 항상 사용하면 된다. \n",
    "- 결측치의 비율을 확인하는 함수를 만든다.\n",
    "- Missing Ratio : \n",
    "- PoolQC : 결측치를 의미한다. : 현재 데이터셋은 모든 데이터가 결측치이다.99.656829\n",
    "    + 패턴이 발견될 가능성이 적은 데이터들이다.\n",
    "    + 결측치가 높은 데이터를 채우거나, 버리거나 선택해야 한다.\n",
    "    + 수식에 빈 값이 들어가면 정상적으로 작동하지 않기 때문에 채워야 한다.\n",
    "    + object / float 방식 중 선택하는데 기준이 다르기 때문에 기준을 맞춰야 한다.\n",
    "    + PoolQC~LotFrontage 까지 삭제한다. : 강의에서는\n",
    "        + 실제로는 위의 결측치가 높은 데이터들에 대해서 공부해서 이 분석에 영향을 주는지\n",
    "            하나씩 조사해야 한다!"
   ]
  },
  {
   "cell_type": "code",
   "execution_count": 61,
   "id": "a1142e3c-62da-410c-8019-9a3091d81a9c",
   "metadata": {
    "tags": []
   },
   "outputs": [
    {
     "name": "stdout",
     "output_type": "stream",
     "text": [
      "결측치 데이터 컬럼과 건수:\n",
      "               Missing Ratio Data Type\n",
      "PoolQC            99.656829    object\n",
      "MiscFeature       96.396706    object\n",
      "Alley             93.239533    object\n",
      "Fence             80.439259    object\n",
      "FireplaceQu       48.592999    object\n",
      "LotFrontage       16.643789   float64\n",
      "GarageFinish       5.456417    object\n",
      "GarageQual         5.456417    object\n",
      "GarageCond         5.456417    object\n",
      "GarageYrBlt        5.456417   float64\n",
      "GarageType         5.387783    object\n",
      "BsmtExposure       2.779684    object\n",
      "BsmtCond           2.779684    object\n",
      "BsmtQual           2.745367    object\n",
      "BsmtFinType2       2.711050    object\n",
      "BsmtFinType1       2.676733    object\n",
      "MasVnrType         0.823610    object\n",
      "MasVnrArea         0.789293   float64\n",
      "MSZoning           0.137268    object\n",
      "BsmtFullBath       0.068634   float64\n"
     ]
    }
   ],
   "source": [
    "def check_na(data, head_num = 6):\n",
    "  isnull_na = (data.isnull().sum() / len(data)) * 100\n",
    "  data_na = isnull_na.drop(isnull_na[isnull_na == 0].index).sort_values(ascending=False)\n",
    "  missing_data = pd.DataFrame({'Missing Ratio' :data_na, \n",
    "                               'Data Type': data.dtypes[data_na.index]})\n",
    "  print(\"결측치 데이터 컬럼과 건수:\\n\", missing_data.head(head_num))\n",
    "\n",
    "check_na(all_df, 20)"
   ]
  },
  {
   "cell_type": "code",
   "execution_count": 63,
   "id": "1fe970e1-311c-43ee-b65c-bec7a6bbb5ed",
   "metadata": {
    "tags": []
   },
   "outputs": [
    {
     "name": "stdout",
     "output_type": "stream",
     "text": [
      "결측치 데이터 컬럼과 건수:\n",
      "               Missing Ratio Data Type\n",
      "GarageCond         5.456417    object\n",
      "GarageQual         5.456417    object\n",
      "GarageYrBlt        5.456417   float64\n",
      "GarageFinish       5.456417    object\n",
      "GarageType         5.387783    object\n",
      "BsmtCond           2.779684    object\n"
     ]
    }
   ],
   "source": [
    "rm_cols = ['PoolQC', 'MiscFeature', 'Alley', 'Fence', 'FireplaceQu', 'LotFrontage']\n",
    "all_df = all_df.drop(rm_cols, axis=1)\n",
    "check_na(all_df)"
   ]
  },
  {
   "cell_type": "markdown",
   "id": "df4823dd-8d4a-44af-85c2-bc6b48f97a2f",
   "metadata": {},
   "source": [
    "## 위에 남은 데이터들은 일부만 결측치가 있는 데이터들이다.\n",
    "    + 데이터를 채워야 하는데 조사를 해서 결측치를 채워준다\n",
    "    + 어떻게 채우는가?\n",
    "        + object : 가장 높은 빈도로 채우기\n",
    "        + float: 평균, 중간값, 다른 값을 넣든가, 해야 한다.\n",
    "        + 원칙이 없고 그때마다 다르게 조사해서 넣어야 한다.\n",
    "        + 실험을 해서 데이터를 어떻게 채워야 하는지 확인해야 한다.\n",
    "        + 중간값 넣고/평균값 넣고/... 등등을 직접 실험해서 고려해야 한다.\n",
    "        + "
   ]
  },
  {
   "cell_type": "code",
   "execution_count": 64,
   "id": "79405970-6878-473a-8d72-1a1d6f598c07",
   "metadata": {
    "tags": []
   },
   "outputs": [
    {
     "name": "stdout",
     "output_type": "stream",
     "text": [
      "결측치 데이터 컬럼과 건수:\n",
      "               Missing Ratio Data Type\n",
      "GarageCond         5.456417    object\n",
      "GarageQual         5.456417    object\n",
      "GarageYrBlt        5.456417   float64\n",
      "GarageFinish       5.456417    object\n",
      "GarageType         5.387783    object\n",
      "BsmtCond           2.779684    object\n",
      "BsmtExposure       2.779684    object\n",
      "BsmtQual           2.745367    object\n",
      "BsmtFinType2       2.711050    object\n",
      "BsmtFinType1       2.676733    object\n",
      "MasVnrType         0.823610    object\n",
      "MasVnrArea         0.789293   float64\n",
      "MSZoning           0.137268    object\n",
      "Functional         0.068634    object\n",
      "Utilities          0.068634    object\n",
      "BsmtFullBath       0.068634   float64\n",
      "BsmtHalfBath       0.068634   float64\n",
      "GarageArea         0.034317   float64\n",
      "GarageCars         0.034317   float64\n",
      "TotalBsmtSF        0.034317   float64\n"
     ]
    }
   ],
   "source": [
    "check_na((all_df),20)"
   ]
  },
  {
   "cell_type": "markdown",
   "id": "68dcdf65-23fd-4954-9dd8-ac76c28e58d8",
   "metadata": {},
   "source": [
    "## 결측치 채우기\n",
    "- 문자열 데이터는 가장 빈도가 높은 데이터로 대치하는 방법 적용(임시방편)\n",
    "    + 이상치 처리 어떻게 해요? 결측치 처리 어떻게 해요? 변수 어떻게 정했어요?\n",
    "    + 결측치 처리하는 방법이 관건이다.\n",
    "    + 평균값을 사용하더라도 어떻게 사용했는지 구체적으로 조사해서 적용하는 것이 중요하다."
   ]
  },
  {
   "cell_type": "code",
   "execution_count": 66,
   "id": "4e894d3e-cbd2-4701-b246-94b3e173a837",
   "metadata": {
    "tags": []
   },
   "outputs": [
    {
     "data": {
      "text/plain": [
       "TA    2602\n",
       "Gd     122\n",
       "Fa     104\n",
       "Po       5\n",
       "Name: BsmtCond, dtype: int64"
      ]
     },
     "execution_count": 66,
     "metadata": {},
     "output_type": "execute_result"
    }
   ],
   "source": [
    "all_df['BsmtCond'].value_counts() # 자동으로 오름차순"
   ]
  },
  {
   "cell_type": "code",
   "execution_count": 68,
   "id": "a313304e-48ec-4dac-9664-65deff58dc00",
   "metadata": {
    "tags": []
   },
   "outputs": [
    {
     "data": {
      "text/plain": [
       "'TA'"
      ]
     },
     "execution_count": 68,
     "metadata": {},
     "output_type": "execute_result"
    }
   ],
   "source": [
    "# ['이 안에 데이터 컬럼을 넣는다.']\n",
    "all_df['BsmtCond'].mode()[0]"
   ]
  },
  {
   "cell_type": "code",
   "execution_count": 69,
   "id": "c1cad2ac-dac4-4b44-9561-a59a6cc8c83e",
   "metadata": {
    "tags": []
   },
   "outputs": [
    {
     "data": {
      "text/plain": [
       "'Unf'"
      ]
     },
     "execution_count": 69,
     "metadata": {},
     "output_type": "execute_result"
    }
   ],
   "source": [
    "all_df['GarageFinish'].mode()[0]"
   ]
  },
  {
   "cell_type": "markdown",
   "id": "deb8bde4-b29a-48db-8f69-aa3503a9497c",
   "metadata": {},
   "source": [
    "## # 결측치 채우는 함수\n",
    "fillna() "
   ]
  },
  {
   "cell_type": "markdown",
   "id": "1dd9391c-1c65-4761-9b42-21c573462a34",
   "metadata": {},
   "source": [
    "## 아래 코드 외우기 : 문자형컬럼만 추출함 / 수치형은 \n",
    "## cat_all_vars = train.select_dtypes(exclude=[np.number])"
   ]
  },
  {
   "cell_type": "code",
   "execution_count": 72,
   "id": "a002ad72-52fd-43fa-b0b9-549b3f27b6a4",
   "metadata": {
    "tags": []
   },
   "outputs": [
    {
     "name": "stdout",
     "output_type": "stream",
     "text": [
      "<class 'pandas.core.frame.DataFrame'>\n",
      "RangeIndex: 2914 entries, 0 to 2913\n",
      "Data columns (total 38 columns):\n",
      " #   Column         Non-Null Count  Dtype \n",
      "---  ------         --------------  ----- \n",
      " 0   MSZoning       2910 non-null   object\n",
      " 1   Street         2914 non-null   object\n",
      " 2   LotShape       2914 non-null   object\n",
      " 3   LandContour    2914 non-null   object\n",
      " 4   Utilities      2912 non-null   object\n",
      " 5   LotConfig      2914 non-null   object\n",
      " 6   LandSlope      2914 non-null   object\n",
      " 7   Neighborhood   2914 non-null   object\n",
      " 8   Condition1     2914 non-null   object\n",
      " 9   Condition2     2914 non-null   object\n",
      " 10  BldgType       2914 non-null   object\n",
      " 11  HouseStyle     2914 non-null   object\n",
      " 12  RoofStyle      2914 non-null   object\n",
      " 13  RoofMatl       2914 non-null   object\n",
      " 14  Exterior1st    2913 non-null   object\n",
      " 15  Exterior2nd    2913 non-null   object\n",
      " 16  MasVnrType     2890 non-null   object\n",
      " 17  ExterQual      2914 non-null   object\n",
      " 18  ExterCond      2914 non-null   object\n",
      " 19  Foundation     2914 non-null   object\n",
      " 20  BsmtQual       2834 non-null   object\n",
      " 21  BsmtCond       2833 non-null   object\n",
      " 22  BsmtExposure   2833 non-null   object\n",
      " 23  BsmtFinType1   2836 non-null   object\n",
      " 24  BsmtFinType2   2835 non-null   object\n",
      " 25  Heating        2914 non-null   object\n",
      " 26  HeatingQC      2914 non-null   object\n",
      " 27  CentralAir     2914 non-null   object\n",
      " 28  Electrical     2913 non-null   object\n",
      " 29  KitchenQual    2913 non-null   object\n",
      " 30  Functional     2912 non-null   object\n",
      " 31  GarageType     2757 non-null   object\n",
      " 32  GarageFinish   2755 non-null   object\n",
      " 33  GarageQual     2755 non-null   object\n",
      " 34  GarageCond     2755 non-null   object\n",
      " 35  PavedDrive     2914 non-null   object\n",
      " 36  SaleType       2913 non-null   object\n",
      " 37  SaleCondition  2914 non-null   object\n",
      "dtypes: object(38)\n",
      "memory usage: 865.2+ KB\n",
      "None\n",
      "Index(['MSZoning', 'Street', 'LotShape', 'LandContour', 'Utilities',\n",
      "       'LotConfig', 'LandSlope', 'Neighborhood', 'Condition1', 'Condition2',\n",
      "       'BldgType', 'HouseStyle', 'RoofStyle', 'RoofMatl', 'Exterior1st',\n",
      "       'Exterior2nd', 'MasVnrType', 'ExterQual', 'ExterCond', 'Foundation',\n",
      "       'BsmtQual', 'BsmtCond', 'BsmtExposure', 'BsmtFinType1', 'BsmtFinType2',\n",
      "       'Heating', 'HeatingQC', 'CentralAir', 'Electrical', 'KitchenQual',\n",
      "       'Functional', 'GarageType', 'GarageFinish', 'GarageQual', 'GarageCond',\n",
      "       'PavedDrive', 'SaleType', 'SaleCondition'],\n",
      "      dtype='object')\n",
      "38\n"
     ]
    }
   ],
   "source": [
    "import numpy as np\n",
    "\n",
    "cat_all_vars = all_df.select_dtypes(exclude=[np.number])\n",
    "# print(cat_all_vars.info())\n",
    "\n",
    "cat_vars = cat_all_vars.columns\n",
    "print(cat_vars)\n",
    "print(len(cat_vars))"
   ]
  },
  {
   "cell_type": "markdown",
   "id": "eab597a7-ec78-49f3-a695-322d759fd133",
   "metadata": {},
   "source": [
    "## 결측치 채우기"
   ]
  },
  {
   "cell_type": "markdown",
   "id": "e78a0468-a92a-4d2d-999e-88b3f5b8d58c",
   "metadata": {
    "tags": []
   },
   "source": [
    "for i in cat_vars:\n",
    "    all_df[i] = all_df[i].fillna(all_df[i].mode()[0])\n",
    "    \n",
    "check_na(all_df,20)"
   ]
  },
  {
   "cell_type": "markdown",
   "id": "412bd2ad-159a-4a5b-9b3a-06e42890d7f2",
   "metadata": {},
   "source": [
    "## 수치 데이터 결측치 채우기\n",
    "## 중간값으로 채우기 : median()"
   ]
  },
  {
   "cell_type": "code",
   "execution_count": 178,
   "id": "f5b91e48-8912-4049-94c1-062dbd986ec2",
   "metadata": {
    "tags": []
   },
   "outputs": [
    {
     "name": "stdout",
     "output_type": "stream",
     "text": [
      "   MSSubClass    LotArea  OverallQual  OverallCond  MasVnrArea  BsmtFinSF1  \\\n",
      "0    6.514849  13.441162            7            5   19.403768  118.155294   \n",
      "1    4.256808  13.711769            6            8    0.000000  147.201453   \n",
      "2    6.514849  14.052142            7            5   17.743120   91.791879   \n",
      "3    6.879231  13.700638            7            5    0.000000   52.881454   \n",
      "4    6.514849  14.569342            8            5   25.360528  112.321018   \n",
      "\n",
      "   BsmtFinSF2  BsmtUnfSF  LowQualFinSF  GrLivArea  ...  GarageCars  \\\n",
      "0         0.0      150.0           0.0   7.250638  ...         2.0   \n",
      "1         0.0      284.0           0.0   6.962437  ...         2.0   \n",
      "2         0.0      434.0           0.0   7.291844  ...         2.0   \n",
      "3         0.0      540.0           0.0   7.254509  ...         3.0   \n",
      "4         0.0      490.0           0.0   7.488374  ...         3.0   \n",
      "\n",
      "   GarageArea  WoodDeckSF  PoolArea  MiscVal  MoSold      TotalSF  \\\n",
      "0           1     0.00000         0      0.0       2  1151.637374   \n",
      "1           1    56.27908         0      0.0       5   406.232431   \n",
      "2           1     0.00000         0      0.0       9  1181.319122   \n",
      "3           1     0.00000         0      0.0       2  1025.634978   \n",
      "4           1    42.31033         0      0.0      12  1428.735440   \n",
      "\n",
      "   Total_Bathrooms  Total_porch_sf  YearsSinceRemodel  \n",
      "0         3.500000       12.000380                  5  \n",
      "1         2.355511        0.000000                 31  \n",
      "2         3.500000        9.842449                  6  \n",
      "3         2.000000       24.832943                 36  \n",
      "4         3.500000       14.168393                  8  \n",
      "\n",
      "[5 rows x 24 columns]\n",
      "<class 'pandas.core.frame.DataFrame'>\n",
      "RangeIndex: 2914 entries, 0 to 2913\n",
      "Data columns (total 24 columns):\n",
      " #   Column             Non-Null Count  Dtype  \n",
      "---  ------             --------------  -----  \n",
      " 0   MSSubClass         2914 non-null   float64\n",
      " 1   LotArea            2914 non-null   float64\n",
      " 2   OverallQual        2914 non-null   int64  \n",
      " 3   OverallCond        2914 non-null   int64  \n",
      " 4   MasVnrArea         2914 non-null   float64\n",
      " 5   BsmtFinSF1         2914 non-null   float64\n",
      " 6   BsmtFinSF2         2914 non-null   float64\n",
      " 7   BsmtUnfSF          2914 non-null   float64\n",
      " 8   LowQualFinSF       2914 non-null   float64\n",
      " 9   GrLivArea          2914 non-null   float64\n",
      " 10  BedroomAbvGr       2914 non-null   int64  \n",
      " 11  KitchenAbvGr       2914 non-null   float64\n",
      " 12  TotRmsAbvGrd       2914 non-null   int64  \n",
      " 13  Fireplaces         2914 non-null   int64  \n",
      " 14  GarageCars         2914 non-null   float64\n",
      " 15  GarageArea         2914 non-null   int64  \n",
      " 16  WoodDeckSF         2914 non-null   float64\n",
      " 17  PoolArea           2914 non-null   int64  \n",
      " 18  MiscVal            2914 non-null   float64\n",
      " 19  MoSold             2914 non-null   int64  \n",
      " 20  TotalSF            2914 non-null   float64\n",
      " 21  Total_Bathrooms    2914 non-null   float64\n",
      " 22  Total_porch_sf     2914 non-null   float64\n",
      " 23  YearsSinceRemodel  2914 non-null   int32  \n",
      "dtypes: float64(15), int32(1), int64(8)\n",
      "memory usage: 535.1 KB\n",
      "None\n",
      "Index(['MSSubClass', 'LotArea', 'OverallQual', 'OverallCond', 'MasVnrArea',\n",
      "       'BsmtFinSF1', 'BsmtFinSF2', 'BsmtUnfSF', 'LowQualFinSF', 'GrLivArea',\n",
      "       'BedroomAbvGr', 'KitchenAbvGr', 'TotRmsAbvGrd', 'Fireplaces',\n",
      "       'GarageCars', 'GarageArea', 'WoodDeckSF', 'PoolArea', 'MiscVal',\n",
      "       'MoSold', 'TotalSF', 'Total_Bathrooms', 'Total_porch_sf',\n",
      "       'YearsSinceRemodel'],\n",
      "      dtype='object')\n",
      "결측치 데이터 컬럼과 건수:\n",
      " Empty DataFrame\n",
      "Columns: [Missing Ratio, Data Type]\n",
      "Index: []\n"
     ]
    }
   ],
   "source": [
    "import numpy as np\n",
    "\n",
    "# 이름 변경 number : 문자열 제외 -> 숫자를 포함(include)\n",
    "num_all_vars = all_df.select_dtypes(include=[np.number]) # 수정함 include\n",
    "print(num_all_vars.head())\n",
    "print(num_all_vars.info())\n",
    "\n",
    "num_cols = num_all_vars.columns\n",
    "print(num_cols)\n",
    "for i in num_cols:\n",
    "    # 그대로 사용한다.\n",
    "    all_df[i] = all_df[i].fillna(all_df[i].median())\n",
    "    \n",
    "check_na(all_df,20)"
   ]
  },
  {
   "cell_type": "code",
   "execution_count": 100,
   "id": "41ec9883-9ca3-4f2f-9955-1ef93ea0c920",
   "metadata": {
    "tags": []
   },
   "outputs": [
    {
     "name": "stdout",
     "output_type": "stream",
     "text": [
      "<class 'pandas.core.frame.DataFrame'>\n",
      "RangeIndex: 2914 entries, 0 to 2913\n",
      "Data columns (total 73 columns):\n",
      " #   Column         Non-Null Count  Dtype  \n",
      "---  ------         --------------  -----  \n",
      " 0   MSSubClass     2914 non-null   int64  \n",
      " 1   MSZoning       2914 non-null   object \n",
      " 2   LotArea        2914 non-null   int64  \n",
      " 3   Street         2914 non-null   object \n",
      " 4   LotShape       2914 non-null   object \n",
      " 5   LandContour    2914 non-null   object \n",
      " 6   Utilities      2914 non-null   object \n",
      " 7   LotConfig      2914 non-null   object \n",
      " 8   LandSlope      2914 non-null   object \n",
      " 9   Neighborhood   2914 non-null   object \n",
      " 10  Condition1     2914 non-null   object \n",
      " 11  Condition2     2914 non-null   object \n",
      " 12  BldgType       2914 non-null   object \n",
      " 13  HouseStyle     2914 non-null   object \n",
      " 14  OverallQual    2914 non-null   int64  \n",
      " 15  OverallCond    2914 non-null   int64  \n",
      " 16  YearBuilt      2914 non-null   int64  \n",
      " 17  YearRemodAdd   2914 non-null   int64  \n",
      " 18  RoofStyle      2914 non-null   object \n",
      " 19  RoofMatl       2914 non-null   object \n",
      " 20  Exterior1st    2914 non-null   object \n",
      " 21  Exterior2nd    2914 non-null   object \n",
      " 22  MasVnrType     2914 non-null   object \n",
      " 23  MasVnrArea     2914 non-null   float64\n",
      " 24  ExterQual      2914 non-null   object \n",
      " 25  ExterCond      2914 non-null   object \n",
      " 26  Foundation     2914 non-null   object \n",
      " 27  BsmtQual       2914 non-null   object \n",
      " 28  BsmtCond       2914 non-null   object \n",
      " 29  BsmtExposure   2914 non-null   object \n",
      " 30  BsmtFinType1   2914 non-null   object \n",
      " 31  BsmtFinSF1     2914 non-null   float64\n",
      " 32  BsmtFinType2   2914 non-null   object \n",
      " 33  BsmtFinSF2     2914 non-null   float64\n",
      " 34  BsmtUnfSF      2914 non-null   float64\n",
      " 35  TotalBsmtSF    2914 non-null   float64\n",
      " 36  Heating        2914 non-null   object \n",
      " 37  HeatingQC      2914 non-null   object \n",
      " 38  CentralAir     2914 non-null   object \n",
      " 39  Electrical     2914 non-null   object \n",
      " 40  1stFlrSF       2914 non-null   int64  \n",
      " 41  2ndFlrSF       2914 non-null   int64  \n",
      " 42  LowQualFinSF   2914 non-null   int64  \n",
      " 43  GrLivArea      2914 non-null   int64  \n",
      " 44  BsmtFullBath   2914 non-null   float64\n",
      " 45  BsmtHalfBath   2914 non-null   float64\n",
      " 46  FullBath       2914 non-null   int64  \n",
      " 47  HalfBath       2914 non-null   int64  \n",
      " 48  BedroomAbvGr   2914 non-null   int64  \n",
      " 49  KitchenAbvGr   2914 non-null   int64  \n",
      " 50  KitchenQual    2914 non-null   object \n",
      " 51  TotRmsAbvGrd   2914 non-null   int64  \n",
      " 52  Functional     2914 non-null   object \n",
      " 53  Fireplaces     2914 non-null   int64  \n",
      " 54  GarageType     2914 non-null   object \n",
      " 55  GarageYrBlt    2914 non-null   float64\n",
      " 56  GarageFinish   2914 non-null   object \n",
      " 57  GarageCars     2914 non-null   float64\n",
      " 58  GarageArea     2914 non-null   float64\n",
      " 59  GarageQual     2914 non-null   object \n",
      " 60  GarageCond     2914 non-null   object \n",
      " 61  PavedDrive     2914 non-null   object \n",
      " 62  WoodDeckSF     2914 non-null   int64  \n",
      " 63  OpenPorchSF    2914 non-null   int64  \n",
      " 64  EnclosedPorch  2914 non-null   int64  \n",
      " 65  3SsnPorch      2914 non-null   int64  \n",
      " 66  ScreenPorch    2914 non-null   int64  \n",
      " 67  PoolArea       2914 non-null   int64  \n",
      " 68  MiscVal        2914 non-null   int64  \n",
      " 69  MoSold         2914 non-null   int64  \n",
      " 70  YrSold         2914 non-null   int64  \n",
      " 71  SaleType       2914 non-null   object \n",
      " 72  SaleCondition  2914 non-null   object \n",
      "dtypes: float64(10), int64(25), object(38)\n",
      "memory usage: 1.6+ MB\n"
     ]
    }
   ],
   "source": [
    "all_df.info()"
   ]
  },
  {
   "cell_type": "markdown",
   "id": "b96e9393-1459-4a72-ba75-4768006be467",
   "metadata": {},
   "source": [
    "## 왜도 처리하기\n",
    "\n",
    "- skewness\n",
    "- 왜도 보정\n",
    "    + 이 분포틑 왜도야! 진단을 내려야 한다.\n",
    "    + -3 ~ +3"
   ]
  },
  {
   "cell_type": "code",
   "execution_count": 103,
   "id": "58cdd32a-c8d2-40e6-854b-4baa7ca8358b",
   "metadata": {
    "tags": []
   },
   "outputs": [
    {
     "data": {
      "text/plain": [
       "Index(['MSSubClass', 'LotArea', 'OverallQual', 'OverallCond', 'YearBuilt',\n",
       "       'YearRemodAdd', 'MasVnrArea', 'BsmtFinSF1', 'BsmtFinSF2', 'BsmtUnfSF',\n",
       "       'TotalBsmtSF', '1stFlrSF', '2ndFlrSF', 'LowQualFinSF', 'GrLivArea',\n",
       "       'BsmtFullBath', 'BsmtHalfBath', 'FullBath', 'HalfBath', 'BedroomAbvGr',\n",
       "       'KitchenAbvGr', 'TotRmsAbvGrd', 'Fireplaces', 'GarageYrBlt',\n",
       "       'GarageCars', 'GarageArea', 'WoodDeckSF', 'OpenPorchSF',\n",
       "       'EnclosedPorch', '3SsnPorch', 'ScreenPorch', 'PoolArea', 'MiscVal',\n",
       "       'MoSold', 'YrSold'],\n",
       "      dtype='object')"
      ]
     },
     "execution_count": 103,
     "metadata": {},
     "output_type": "execute_result"
    }
   ],
   "source": [
    "num_cols"
   ]
  },
  {
   "cell_type": "code",
   "execution_count": 101,
   "id": "3867d11e-910d-47ca-8964-2f509ffa4ddd",
   "metadata": {
    "tags": []
   },
   "outputs": [],
   "source": [
    "from scipy.stats import skew\n",
    "\n",
    "def find_skew(x):\n",
    "    return skew(x)"
   ]
  },
  {
   "cell_type": "code",
   "execution_count": 102,
   "id": "905380cf-bb0e-4ac9-b757-5dee8af31a49",
   "metadata": {
    "tags": []
   },
   "outputs": [
    {
     "data": {
      "text/plain": [
       "MiscVal          21.928383\n",
       "PoolArea         16.883698\n",
       "LotArea          12.817577\n",
       "LowQualFinSF     12.078203\n",
       "3SsnPorch        11.366100\n",
       "KitchenAbvGr      4.316357\n",
       "BsmtFinSF2        4.142042\n",
       "EnclosedPorch     4.019921\n",
       "ScreenPorch       3.942711\n",
       "BsmtHalfBath      3.927598\n",
       "MasVnrArea        2.610910\n",
       "OpenPorchSF       2.538734\n",
       "WoodDeckSF        1.842626\n",
       "1stFlrSF          1.471175\n",
       "BsmtFinSF1        1.423690\n",
       "MSSubClass        1.373564\n",
       "GrLivArea         1.268174\n",
       "TotalBsmtSF       1.166820\n",
       "BsmtUnfSF         0.920694\n",
       "2ndFlrSF          0.862272\n",
       "TotRmsAbvGrd      0.759082\n",
       "Fireplaces        0.732140\n",
       "HalfBath          0.693438\n",
       "BsmtFullBath      0.623599\n",
       "OverallCond       0.571076\n",
       "BedroomAbvGr      0.326914\n",
       "GarageArea        0.238810\n",
       "OverallQual       0.206317\n",
       "MoSold            0.196270\n",
       "FullBath          0.167065\n",
       "YrSold            0.131984\n",
       "GarageCars       -0.220598\n",
       "GarageYrBlt      -0.397630\n",
       "YearRemodAdd     -0.452230\n",
       "YearBuilt        -0.602844\n",
       "dtype: float64"
      ]
     },
     "execution_count": 102,
     "metadata": {},
     "output_type": "execute_result"
    }
   ],
   "source": [
    "# all_df[num_cols] : num_cols에 각기 위에 정의한 값들을 그때마다 넣는다.\n",
    "skewness_features = all_df[num_cols].apply(find_skew).sort_values(ascending=False)\n",
    "skewness_features"
   ]
  },
  {
   "cell_type": "code",
   "execution_count": 104,
   "id": "151bd515-6cd8-452c-abbf-e6694d9490ab",
   "metadata": {
    "tags": []
   },
   "outputs": [
    {
     "data": {
      "text/plain": [
       "['MiscVal',\n",
       " 'PoolArea',\n",
       " 'LotArea',\n",
       " 'LowQualFinSF',\n",
       " '3SsnPorch',\n",
       " 'KitchenAbvGr',\n",
       " 'BsmtFinSF2',\n",
       " 'EnclosedPorch',\n",
       " 'ScreenPorch',\n",
       " 'BsmtHalfBath',\n",
       " 'MasVnrArea',\n",
       " 'OpenPorchSF',\n",
       " 'WoodDeckSF',\n",
       " '1stFlrSF',\n",
       " 'BsmtFinSF1',\n",
       " 'MSSubClass',\n",
       " 'GrLivArea',\n",
       " 'TotalBsmtSF',\n",
       " 'BsmtUnfSF',\n",
       " '2ndFlrSF',\n",
       " 'TotRmsAbvGrd',\n",
       " 'Fireplaces',\n",
       " 'HalfBath',\n",
       " 'BsmtFullBath',\n",
       " 'OverallCond',\n",
       " 'BedroomAbvGr',\n",
       " 'GarageArea',\n",
       " 'OverallQual',\n",
       " 'MoSold',\n",
       " 'FullBath',\n",
       " 'YrSold',\n",
       " 'GarageCars',\n",
       " 'GarageYrBlt',\n",
       " 'YearRemodAdd',\n",
       " 'YearBuilt']"
      ]
     },
     "execution_count": 104,
     "metadata": {},
     "output_type": "execute_result"
    }
   ],
   "source": [
    "# 위의 데이터는 dataframe, series 중에서 series index임\n",
    "skewness_index = list(skewness_features.index)\n",
    "skewness_index"
   ]
  },
  {
   "cell_type": "code",
   "execution_count": 105,
   "id": "4de73d7d-352a-456d-9fb9-4acdfeeebfac",
   "metadata": {
    "tags": []
   },
   "outputs": [
    {
     "data": {
      "text/plain": [
       "array([ 8450,  9600, 11250, ...,  1894, 20000, 10441], dtype=int64)"
      ]
     },
     "execution_count": 105,
     "metadata": {},
     "output_type": "execute_result"
    }
   ],
   "source": [
    "# 변수들을 하나씩 뽑는 것이 정석\n",
    "all_df['LotArea'].nunique()"
   ]
  },
  {
   "cell_type": "code",
   "execution_count": 106,
   "id": "5a15463a-1e7e-47af-87a9-0e1cda24a0e0",
   "metadata": {
    "tags": []
   },
   "outputs": [
    {
     "data": {
      "text/plain": [
       "1949"
      ]
     },
     "execution_count": 106,
     "metadata": {},
     "output_type": "execute_result"
    }
   ],
   "source": [
    "all_df['LotArea'].nunique() # 데이터의 갯수, id같은 개념이다. index에서 빼도 된다."
   ]
  },
  {
   "cell_type": "markdown",
   "id": "09cf7b38-b8be-425a-9895-a3d8feb2807d",
   "metadata": {},
   "source": [
    "- 실제로 수치 데이터는 아니나, 명목상 수치형으로 바꿔서 들어간 데이터들도 많다.\n",
    "    + 실무에서는 수치데이터들에서 제거해야 하는 데이터이다."
   ]
  },
  {
   "cell_type": "code",
   "execution_count": 107,
   "id": "30908e8d-2fdb-4f00-9379-2db458876d8b",
   "metadata": {
    "tags": []
   },
   "outputs": [
    {
     "data": {
      "text/plain": [
       "['MiscVal',\n",
       " 'PoolArea',\n",
       " 'LowQualFinSF',\n",
       " '3SsnPorch',\n",
       " 'KitchenAbvGr',\n",
       " 'BsmtFinSF2',\n",
       " 'EnclosedPorch',\n",
       " 'ScreenPorch',\n",
       " 'BsmtHalfBath',\n",
       " 'MasVnrArea',\n",
       " 'OpenPorchSF',\n",
       " 'WoodDeckSF',\n",
       " '1stFlrSF',\n",
       " 'BsmtFinSF1',\n",
       " 'MSSubClass',\n",
       " 'GrLivArea',\n",
       " 'TotalBsmtSF',\n",
       " 'BsmtUnfSF',\n",
       " '2ndFlrSF',\n",
       " 'TotRmsAbvGrd',\n",
       " 'Fireplaces',\n",
       " 'HalfBath',\n",
       " 'BsmtFullBath',\n",
       " 'OverallCond',\n",
       " 'BedroomAbvGr',\n",
       " 'GarageArea',\n",
       " 'OverallQual',\n",
       " 'MoSold',\n",
       " 'FullBath',\n",
       " 'YrSold',\n",
       " 'GarageCars',\n",
       " 'GarageYrBlt',\n",
       " 'YearRemodAdd',\n",
       " 'YearBuilt']"
      ]
     },
     "execution_count": 107,
     "metadata": {},
     "output_type": "execute_result"
    }
   ],
   "source": [
    "skewness_index.remove('LotArea')\n",
    "skewness_index"
   ]
  },
  {
   "cell_type": "code",
   "execution_count": 109,
   "id": "6f09ad42-9959-4ab7-ac7e-44dbea1b21e6",
   "metadata": {
    "tags": []
   },
   "outputs": [
    {
     "name": "stdout",
     "output_type": "stream",
     "text": [
      "<class 'pandas.core.frame.DataFrame'>\n",
      "RangeIndex: 2914 entries, 0 to 2913\n",
      "Data columns (total 34 columns):\n",
      " #   Column         Non-Null Count  Dtype  \n",
      "---  ------         --------------  -----  \n",
      " 0   MiscVal        2914 non-null   int64  \n",
      " 1   PoolArea       2914 non-null   int64  \n",
      " 2   LowQualFinSF   2914 non-null   int64  \n",
      " 3   3SsnPorch      2914 non-null   int64  \n",
      " 4   KitchenAbvGr   2914 non-null   int64  \n",
      " 5   BsmtFinSF2     2914 non-null   float64\n",
      " 6   EnclosedPorch  2914 non-null   int64  \n",
      " 7   ScreenPorch    2914 non-null   int64  \n",
      " 8   BsmtHalfBath   2914 non-null   float64\n",
      " 9   MasVnrArea     2914 non-null   float64\n",
      " 10  OpenPorchSF    2914 non-null   int64  \n",
      " 11  WoodDeckSF     2914 non-null   int64  \n",
      " 12  1stFlrSF       2914 non-null   int64  \n",
      " 13  BsmtFinSF1     2914 non-null   float64\n",
      " 14  MSSubClass     2914 non-null   int64  \n",
      " 15  GrLivArea      2914 non-null   int64  \n",
      " 16  TotalBsmtSF    2914 non-null   float64\n",
      " 17  BsmtUnfSF      2914 non-null   float64\n",
      " 18  2ndFlrSF       2914 non-null   int64  \n",
      " 19  TotRmsAbvGrd   2914 non-null   int64  \n",
      " 20  Fireplaces     2914 non-null   int64  \n",
      " 21  HalfBath       2914 non-null   int64  \n",
      " 22  BsmtFullBath   2914 non-null   float64\n",
      " 23  OverallCond    2914 non-null   int64  \n",
      " 24  BedroomAbvGr   2914 non-null   int64  \n",
      " 25  GarageArea     2914 non-null   float64\n",
      " 26  OverallQual    2914 non-null   int64  \n",
      " 27  MoSold         2914 non-null   int64  \n",
      " 28  FullBath       2914 non-null   int64  \n",
      " 29  YrSold         2914 non-null   int64  \n",
      " 30  GarageCars     2914 non-null   float64\n",
      " 31  GarageYrBlt    2914 non-null   float64\n",
      " 32  YearRemodAdd   2914 non-null   int64  \n",
      " 33  YearBuilt      2914 non-null   int64  \n",
      "dtypes: float64(10), int64(24)\n",
      "memory usage: 774.2 KB\n"
     ]
    }
   ],
   "source": [
    "all_numeric_df = all_df.loc[:,skewness_index]\n",
    "all_numeric_df.info()"
   ]
  },
  {
   "cell_type": "markdown",
   "id": "fc2256ed-f5f3-40c4-9946-4d0cfecf8e06",
   "metadata": {},
   "source": [
    "- boxplot graph\n",
    "    + 우측의 떨어져 나온 마름모들이 이상치이다."
   ]
  },
  {
   "cell_type": "code",
   "execution_count": 179,
   "id": "2b4bb54c-4f6f-4a8c-95fc-4bd6fc323aad",
   "metadata": {
    "tags": []
   },
   "outputs": [
    {
     "data": {
      "image/png": "[encoded data removed]",
      "text/plain": [
       "<Figure size 1000x600 with 1 Axes>"
      ]
     },
     "metadata": {},
     "output_type": "display_data"
    }
   ],
   "source": [
    "fig, ax = plt.subplots(figsize=(10,6))\n",
    "sns.boxplot(data = all_numeric_df, orient = 'h', palette = 'Set1')\n",
    "plt.show()"
   ]
  },
  {
   "cell_type": "markdown",
   "id": "635ccf3b-5440-4cb0-935c-abff6f1916be",
   "metadata": {},
   "source": [
    "## 왜도가 1보다 높은 수치형 변수를 출력하는 코드\n",
    "- 왜도가 높은 컬럼만 조회한다.\n",
    "- 변환하면 된다. 정규분포를 이륒 않는 데이터를 정규분포를 이루도록 도와주는 장치\n",
    "    +boxcox변환, 로그변환"
   ]
  },
  {
   "cell_type": "code",
   "execution_count": 113,
   "id": "91df3804-8af0-4da8-b78c-678c381b061e",
   "metadata": {
    "tags": []
   },
   "outputs": [
    {
     "name": "stdout",
     "output_type": "stream",
     "text": [
      "Index(['MiscVal', 'PoolArea', 'LotArea', 'LowQualFinSF', '3SsnPorch',\n",
      "       'KitchenAbvGr', 'BsmtFinSF2', 'EnclosedPorch', 'ScreenPorch',\n",
      "       'BsmtHalfBath', 'MasVnrArea', 'OpenPorchSF', 'WoodDeckSF', '1stFlrSF',\n",
      "       'BsmtFinSF1', 'MSSubClass', 'GrLivArea', 'TotalBsmtSF'],\n",
      "      dtype='object')\n",
      "18\n"
     ]
    }
   ],
   "source": [
    "from scipy.special import boxcox1p\n",
    "from scipy.stats import boxcox_normmax\n",
    "\n",
    "# 왜도가 1보다 높은 수치형 변수 출력\n",
    "high_skew = skewness_features[skewness_features > 1]\n",
    "high_skew_index = high_skew.index\n",
    "print(high_skew_index)\n",
    "print(len(high_skew_index))"
   ]
  },
  {
   "cell_type": "code",
   "execution_count": 115,
   "id": "6f2370ba-93e3-44b4-a041-5c409a9cc3cb",
   "metadata": {
    "tags": []
   },
   "outputs": [
    {
     "name": "stderr",
     "output_type": "stream",
     "text": [
      "C:\\Users\\chloecho\\Desktop\\Kaggle\\venv\\Lib\\site-packages\\scipy\\stats\\_stats_py.py:4424: ConstantInputWarning: An input array is constant; the correlation coefficient is not defined.\n",
      "  warnings.warn(stats.ConstantInputWarning(msg))\n",
      "C:\\Users\\chloecho\\Desktop\\Kaggle\\venv\\Lib\\site-packages\\scipy\\stats\\_stats_py.py:4461: NearConstantInputWarning: An input array is nearly constant; the computed correlation coefficient may be inaccurate.\n",
      "  warnings.warn(stats.NearConstantInputWarning(msg))\n"
     ]
    }
   ],
   "source": [
    "# boxcox를 변환하는 코드\n",
    "for num_var in high_skew_index:\n",
    "    all_df[num_var] = boxcox1p(all_df[num_var], boxcox_normmax(all_df[num_var]+1))"
   ]
  },
  {
   "cell_type": "code",
   "execution_count": 119,
   "id": "604c8f5f-bfef-419c-9d72-a0e0303743d9",
   "metadata": {
    "tags": []
   },
   "outputs": [
    {
     "data": {
      "image/png": "[encoded data removed]",
      "text/plain": [
       "<Figure size 1000x600 with 1 Axes>"
      ]
     },
     "metadata": {},
     "output_type": "display_data"
    }
   ],
   "source": [
    "fig, ax = plt.subplots(figsize=(10,6))\n",
    "sns.boxplot(data=all_df[high_skew_index], orient= 'h',palette ='Set1')\n",
    "plt.show()"
   ]
  },
  {
   "cell_type": "markdown",
   "id": "f9a4234e-bccd-435f-9c99-43dc123b7814",
   "metadata": {
    "tags": []
   },
   "source": [
    "## 도출변수(파생변수)\n",
    "- 각 층의 면적을 모두 더해 전체 면적으로 계산한 새로운 변수를 작성한다.\n",
    "- 모델을 창조하기 위한 최종의 데이터를 만들기 위해서 쓸데없는 데이터를 삭제하고 줄이는 작업을 계속하는 것이다. "
   ]
  },
  {
   "cell_type": "code",
   "execution_count": 125,
   "id": "79130e02-1399-426d-b453-aa7b0ac1ed24",
   "metadata": {
    "tags": []
   },
   "outputs": [
    {
     "name": "stdout",
     "output_type": "stream",
     "text": [
      "<class 'pandas.core.frame.DataFrame'>\n",
      "RangeIndex: 2914 entries, 0 to 2913\n",
      "Data columns (total 74 columns):\n",
      " #   Column         Non-Null Count  Dtype  \n",
      "---  ------         --------------  -----  \n",
      " 0   MSSubClass     2914 non-null   float64\n",
      " 1   MSZoning       2914 non-null   object \n",
      " 2   LotArea        2914 non-null   float64\n",
      " 3   Street         2914 non-null   object \n",
      " 4   LotShape       2914 non-null   object \n",
      " 5   LandContour    2914 non-null   object \n",
      " 6   Utilities      2914 non-null   object \n",
      " 7   LotConfig      2914 non-null   object \n",
      " 8   LandSlope      2914 non-null   object \n",
      " 9   Neighborhood   2914 non-null   object \n",
      " 10  Condition1     2914 non-null   object \n",
      " 11  Condition2     2914 non-null   object \n",
      " 12  BldgType       2914 non-null   object \n",
      " 13  HouseStyle     2914 non-null   object \n",
      " 14  OverallQual    2914 non-null   int64  \n",
      " 15  OverallCond    2914 non-null   int64  \n",
      " 16  YearBuilt      2914 non-null   int64  \n",
      " 17  YearRemodAdd   2914 non-null   int64  \n",
      " 18  RoofStyle      2914 non-null   object \n",
      " 19  RoofMatl       2914 non-null   object \n",
      " 20  Exterior1st    2914 non-null   object \n",
      " 21  Exterior2nd    2914 non-null   object \n",
      " 22  MasVnrType     2914 non-null   object \n",
      " 23  MasVnrArea     2914 non-null   float64\n",
      " 24  ExterQual      2914 non-null   object \n",
      " 25  ExterCond      2914 non-null   object \n",
      " 26  Foundation     2914 non-null   object \n",
      " 27  BsmtQual       2914 non-null   object \n",
      " 28  BsmtCond       2914 non-null   object \n",
      " 29  BsmtExposure   2914 non-null   object \n",
      " 30  BsmtFinType1   2914 non-null   object \n",
      " 31  BsmtFinSF1     2914 non-null   float64\n",
      " 32  BsmtFinType2   2914 non-null   object \n",
      " 33  BsmtFinSF2     2914 non-null   float64\n",
      " 34  BsmtUnfSF      2914 non-null   float64\n",
      " 35  TotalBsmtSF    2914 non-null   float64\n",
      " 36  Heating        2914 non-null   object \n",
      " 37  HeatingQC      2914 non-null   object \n",
      " 38  CentralAir     2914 non-null   object \n",
      " 39  Electrical     2914 non-null   object \n",
      " 40  1stFlrSF       2914 non-null   float64\n",
      " 41  2ndFlrSF       2914 non-null   int64  \n",
      " 42  LowQualFinSF   2914 non-null   float64\n",
      " 43  GrLivArea      2914 non-null   float64\n",
      " 44  BsmtFullBath   2914 non-null   float64\n",
      " 45  BsmtHalfBath   2914 non-null   float64\n",
      " 46  FullBath       2914 non-null   int64  \n",
      " 47  HalfBath       2914 non-null   int64  \n",
      " 48  BedroomAbvGr   2914 non-null   int64  \n",
      " 49  KitchenAbvGr   2914 non-null   float64\n",
      " 50  KitchenQual    2914 non-null   object \n",
      " 51  TotRmsAbvGrd   2914 non-null   int64  \n",
      " 52  Functional     2914 non-null   object \n",
      " 53  Fireplaces     2914 non-null   int64  \n",
      " 54  GarageType     2914 non-null   object \n",
      " 55  GarageYrBlt    2914 non-null   float64\n",
      " 56  GarageFinish   2914 non-null   object \n",
      " 57  GarageCars     2914 non-null   float64\n",
      " 58  GarageArea     2914 non-null   float64\n",
      " 59  GarageQual     2914 non-null   object \n",
      " 60  GarageCond     2914 non-null   object \n",
      " 61  PavedDrive     2914 non-null   object \n",
      " 62  WoodDeckSF     2914 non-null   float64\n",
      " 63  OpenPorchSF    2914 non-null   float64\n",
      " 64  EnclosedPorch  2914 non-null   float64\n",
      " 65  3SsnPorch      2914 non-null   float64\n",
      " 66  ScreenPorch    2914 non-null   float64\n",
      " 67  PoolArea       2914 non-null   float64\n",
      " 68  MiscVal        2914 non-null   float64\n",
      " 69  MoSold         2914 non-null   int64  \n",
      " 70  YrSold         2914 non-null   int64  \n",
      " 71  SaleType       2914 non-null   object \n",
      " 72  SaleCondition  2914 non-null   object \n",
      " 73  TotalSF        2914 non-null   float64\n",
      "dtypes: float64(24), int64(12), object(38)\n",
      "memory usage: 1.6+ MB\n"
     ]
    }
   ],
   "source": [
    "# TotalBsmtSF, 1stFlrSF, 2ndFlrSF : - 1+2층 면적 합쳐 총 면적 합치기\n",
    "all_df['TotalSF'] = all_df['TotalBsmtSF'] + all_df['1stFlrSF'] + all_df['2ndFlrSF']\n",
    "all_df.info()"
   ]
  },
  {
   "cell_type": "code",
   "execution_count": 128,
   "id": "11168e54-a589-486e-aaff-83cd8ac0e878",
   "metadata": {},
   "outputs": [
    {
     "data": {
      "text/plain": [
       "(2914, 74)"
      ]
     },
     "execution_count": 128,
     "metadata": {},
     "output_type": "execute_result"
    }
   ],
   "source": [
    "all_df.shape"
   ]
  },
  {
   "cell_type": "code",
   "execution_count": 131,
   "id": "a76c7e03-e52f-4739-8f86-972af09aaa0d",
   "metadata": {
    "tags": []
   },
   "outputs": [
    {
     "data": {
      "text/plain": [
       "(2914, 65)"
      ]
     },
     "execution_count": 131,
     "metadata": {},
     "output_type": "execute_result"
    }
   ],
   "source": [
    "all_df = all_df.drop(['TotalBsmtSF', '1stFlrSF', '2ndFlrSF'], axis = 1)\n",
    "all_df.shape"
   ]
  },
  {
   "cell_type": "code",
   "execution_count": 130,
   "id": "aad0ab10-0417-44fd-9dd6-4592479aeef5",
   "metadata": {
    "tags": []
   },
   "outputs": [
    {
     "name": "stdout",
     "output_type": "stream",
     "text": [
      "(2914, 68)\n"
     ]
    }
   ],
   "source": [
    "all_df['Total_Bathrooms'] = (all_df['FullBath'] + (0.5 * all_df['HalfBath']) + all_df['BsmtFullBath'] + (0.5 * all_df['BsmtHalfBath']))\n",
    "all_df['Total_porch_sf'] = (all_df['OpenPorchSF'] + all_df['3SsnPorch'] + all_df['EnclosedPorch'] + all_df['ScreenPorch'])\n",
    "all_df = all_df.drop(['FullBath', 'HalfBath', 'BsmtFullBath', 'BsmtHalfBath', 'OpenPorchSF', '3SsnPorch', 'EnclosedPorch', 'ScreenPorch'], axis=1)\n",
    "print(all_df.shape)"
   ]
  },
  {
   "cell_type": "markdown",
   "id": "93a3cd81-8994-4f9a-94f8-cc2232e9ff7a",
   "metadata": {},
   "source": [
    "- 연도를 통합 :  yrs"
   ]
  },
  {
   "cell_type": "code",
   "execution_count": 133,
   "id": "f88161a1-53d5-409e-b4cc-86edc4dfdf27",
   "metadata": {
    "tags": []
   },
   "outputs": [
    {
     "name": "stdout",
     "output_type": "stream",
     "text": [
      "<class 'pandas.core.frame.DataFrame'>\n",
      "RangeIndex: 2914 entries, 0 to 2913\n",
      "Data columns (total 65 columns):\n",
      " #   Column           Non-Null Count  Dtype  \n",
      "---  ------           --------------  -----  \n",
      " 0   MSSubClass       2914 non-null   float64\n",
      " 1   MSZoning         2914 non-null   object \n",
      " 2   LotArea          2914 non-null   float64\n",
      " 3   Street           2914 non-null   object \n",
      " 4   LotShape         2914 non-null   object \n",
      " 5   LandContour      2914 non-null   object \n",
      " 6   Utilities        2914 non-null   object \n",
      " 7   LotConfig        2914 non-null   object \n",
      " 8   LandSlope        2914 non-null   object \n",
      " 9   Neighborhood     2914 non-null   object \n",
      " 10  Condition1       2914 non-null   object \n",
      " 11  Condition2       2914 non-null   object \n",
      " 12  BldgType         2914 non-null   object \n",
      " 13  HouseStyle       2914 non-null   object \n",
      " 14  OverallQual      2914 non-null   int64  \n",
      " 15  OverallCond      2914 non-null   int64  \n",
      " 16  YearBuilt        2914 non-null   int64  \n",
      " 17  YearRemodAdd     2914 non-null   int64  \n",
      " 18  RoofStyle        2914 non-null   object \n",
      " 19  RoofMatl         2914 non-null   object \n",
      " 20  Exterior1st      2914 non-null   object \n",
      " 21  Exterior2nd      2914 non-null   object \n",
      " 22  MasVnrType       2914 non-null   object \n",
      " 23  MasVnrArea       2914 non-null   float64\n",
      " 24  ExterQual        2914 non-null   object \n",
      " 25  ExterCond        2914 non-null   object \n",
      " 26  Foundation       2914 non-null   object \n",
      " 27  BsmtQual         2914 non-null   object \n",
      " 28  BsmtCond         2914 non-null   object \n",
      " 29  BsmtExposure     2914 non-null   object \n",
      " 30  BsmtFinType1     2914 non-null   object \n",
      " 31  BsmtFinSF1       2914 non-null   float64\n",
      " 32  BsmtFinType2     2914 non-null   object \n",
      " 33  BsmtFinSF2       2914 non-null   float64\n",
      " 34  BsmtUnfSF        2914 non-null   float64\n",
      " 35  Heating          2914 non-null   object \n",
      " 36  HeatingQC        2914 non-null   object \n",
      " 37  CentralAir       2914 non-null   object \n",
      " 38  Electrical       2914 non-null   object \n",
      " 39  LowQualFinSF     2914 non-null   float64\n",
      " 40  GrLivArea        2914 non-null   float64\n",
      " 41  BedroomAbvGr     2914 non-null   int64  \n",
      " 42  KitchenAbvGr     2914 non-null   float64\n",
      " 43  KitchenQual      2914 non-null   object \n",
      " 44  TotRmsAbvGrd     2914 non-null   int64  \n",
      " 45  Functional       2914 non-null   object \n",
      " 46  Fireplaces       2914 non-null   int64  \n",
      " 47  GarageType       2914 non-null   object \n",
      " 48  GarageYrBlt      2914 non-null   float64\n",
      " 49  GarageFinish     2914 non-null   object \n",
      " 50  GarageCars       2914 non-null   float64\n",
      " 51  GarageArea       2914 non-null   float64\n",
      " 52  GarageQual       2914 non-null   object \n",
      " 53  GarageCond       2914 non-null   object \n",
      " 54  PavedDrive       2914 non-null   object \n",
      " 55  WoodDeckSF       2914 non-null   float64\n",
      " 56  PoolArea         2914 non-null   float64\n",
      " 57  MiscVal          2914 non-null   float64\n",
      " 58  MoSold           2914 non-null   int64  \n",
      " 59  YrSold           2914 non-null   int64  \n",
      " 60  SaleType         2914 non-null   object \n",
      " 61  SaleCondition    2914 non-null   object \n",
      " 62  TotalSF          2914 non-null   float64\n",
      " 63  Total_Bathrooms  2914 non-null   float64\n",
      " 64  Total_porch_sf   2914 non-null   float64\n",
      "dtypes: float64(18), int64(9), object(38)\n",
      "memory usage: 1.4+ MB\n"
     ]
    }
   ],
   "source": [
    "all_df.info()"
   ]
  },
  {
   "cell_type": "code",
   "execution_count": 136,
   "id": "5c12a9c5-1381-4051-85e2-4c02d50957d7",
   "metadata": {
    "tags": []
   },
   "outputs": [
    {
     "data": {
      "text/plain": [
       "35"
      ]
     },
     "execution_count": 136,
     "metadata": {},
     "output_type": "execute_result"
    }
   ],
   "source": [
    "len(num_cols)\n"
   ]
  },
  {
   "cell_type": "code",
   "execution_count": 137,
   "id": "2193edb7-1b74-4903-beac-fd1cac1daf31",
   "metadata": {
    "tags": []
   },
   "outputs": [
    {
     "data": {
      "text/plain": [
       "Index(['MSSubClass', 'LotArea', 'OverallQual', 'OverallCond', 'YearBuilt',\n",
       "       'YearRemodAdd', 'MasVnrArea', 'BsmtFinSF1', 'BsmtFinSF2', 'BsmtUnfSF',\n",
       "       'TotalBsmtSF', '1stFlrSF', '2ndFlrSF', 'LowQualFinSF', 'GrLivArea',\n",
       "       'BsmtFullBath', 'BsmtHalfBath', 'FullBath', 'HalfBath', 'BedroomAbvGr',\n",
       "       'KitchenAbvGr', 'TotRmsAbvGrd', 'Fireplaces', 'GarageYrBlt',\n",
       "       'GarageCars', 'GarageArea', 'WoodDeckSF', 'OpenPorchSF',\n",
       "       'EnclosedPorch', '3SsnPorch', 'ScreenPorch', 'PoolArea', 'MiscVal',\n",
       "       'MoSold', 'YrSold'],\n",
       "      dtype='object')"
      ]
     },
     "execution_count": 137,
     "metadata": {},
     "output_type": "execute_result"
    }
   ],
   "source": [
    "num_cols"
   ]
  },
  {
   "cell_type": "code",
   "execution_count": 141,
   "id": "c64a8322-813a-443b-b49f-c3b367fe787d",
   "metadata": {
    "tags": []
   },
   "outputs": [
    {
     "name": "stdout",
     "output_type": "stream",
     "text": [
      "MSSubClass is not year....\n",
      "LotArea is not year....\n",
      "OverallQual is not year....\n",
      "OverallCond is not year....\n",
      "MasVnrArea is not year....\n",
      "BsmtFinSF1 is not year....\n",
      "BsmtFinSF2 is not year....\n",
      "BsmtUnfSF is not year....\n",
      "TotalBsmtSF is not year....\n",
      "1stFlrSF is not year....\n",
      "2ndFlrSF is not year....\n",
      "LowQualFinSF is not year....\n",
      "GrLivArea is not year....\n",
      "BsmtFullBath is not year....\n",
      "BsmtHalfBath is not year....\n",
      "FullBath is not year....\n",
      "HalfBath is not year....\n",
      "BedroomAbvGr is not year....\n",
      "KitchenAbvGr is not year....\n",
      "TotRmsAbvGrd is not year....\n",
      "Fireplaces is not year....\n",
      "GarageCars is not year....\n",
      "GarageArea is not year....\n",
      "WoodDeckSF is not year....\n",
      "OpenPorchSF is not year....\n",
      "EnclosedPorch is not year....\n",
      "3SsnPorch is not year....\n",
      "ScreenPorch is not year....\n",
      "PoolArea is not year....\n",
      "MiscVal is not year....\n",
      "MoSold is not year....\n"
     ]
    },
    {
     "data": {
      "text/plain": [
       "['YearBuilt', 'YearRemodAdd', 'GarageYrBlt', 'YrSold']"
      ]
     },
     "execution_count": 141,
     "metadata": {},
     "output_type": "execute_result"
    }
   ],
   "source": [
    "num_cols\n",
    "years_features = []\n",
    "for col in num_cols:\n",
    "    if 'Yr' in col:\n",
    "        years_features.append(col)\n",
    "    elif 'Year' in col:\n",
    "        years_features.append(col)\n",
    "    else:\n",
    "        print(col, \"is not year....\")\n",
    "years_features"
   ]
  },
  {
   "cell_type": "code",
   "execution_count": 143,
   "id": "602e2c63-7a27-43ec-b71f-70d080bd95ed",
   "metadata": {
    "tags": []
   },
   "outputs": [
    {
     "data": {
      "text/html": [
       "<div>\n",
       "<style scoped>\n",
       "    .dataframe tbody tr th:only-of-type {\n",
       "        vertical-align: middle;\n",
       "    }\n",
       "\n",
       "    .dataframe tbody tr th {\n",
       "        vertical-align: top;\n",
       "    }\n",
       "\n",
       "    .dataframe thead th {\n",
       "        text-align: right;\n",
       "    }\n",
       "</style>\n",
       "<table border=\"1\" class=\"dataframe\">\n",
       "  <thead>\n",
       "    <tr style=\"text-align: right;\">\n",
       "      <th></th>\n",
       "      <th>YearBuilt</th>\n",
       "      <th>YearRemodAdd</th>\n",
       "      <th>GarageYrBlt</th>\n",
       "      <th>YrSold</th>\n",
       "    </tr>\n",
       "  </thead>\n",
       "  <tbody>\n",
       "    <tr>\n",
       "      <th>0</th>\n",
       "      <td>2003</td>\n",
       "      <td>2003</td>\n",
       "      <td>2003.0</td>\n",
       "      <td>2008</td>\n",
       "    </tr>\n",
       "    <tr>\n",
       "      <th>1</th>\n",
       "      <td>1976</td>\n",
       "      <td>1976</td>\n",
       "      <td>1976.0</td>\n",
       "      <td>2007</td>\n",
       "    </tr>\n",
       "    <tr>\n",
       "      <th>2</th>\n",
       "      <td>2001</td>\n",
       "      <td>2002</td>\n",
       "      <td>2001.0</td>\n",
       "      <td>2008</td>\n",
       "    </tr>\n",
       "    <tr>\n",
       "      <th>3</th>\n",
       "      <td>1915</td>\n",
       "      <td>1970</td>\n",
       "      <td>1998.0</td>\n",
       "      <td>2006</td>\n",
       "    </tr>\n",
       "    <tr>\n",
       "      <th>4</th>\n",
       "      <td>2000</td>\n",
       "      <td>2000</td>\n",
       "      <td>2000.0</td>\n",
       "      <td>2008</td>\n",
       "    </tr>\n",
       "    <tr>\n",
       "      <th>...</th>\n",
       "      <td>...</td>\n",
       "      <td>...</td>\n",
       "      <td>...</td>\n",
       "      <td>...</td>\n",
       "    </tr>\n",
       "    <tr>\n",
       "      <th>2909</th>\n",
       "      <td>1970</td>\n",
       "      <td>1970</td>\n",
       "      <td>1979.0</td>\n",
       "      <td>2006</td>\n",
       "    </tr>\n",
       "    <tr>\n",
       "      <th>2910</th>\n",
       "      <td>1970</td>\n",
       "      <td>1970</td>\n",
       "      <td>1970.0</td>\n",
       "      <td>2006</td>\n",
       "    </tr>\n",
       "    <tr>\n",
       "      <th>2911</th>\n",
       "      <td>1960</td>\n",
       "      <td>1996</td>\n",
       "      <td>1960.0</td>\n",
       "      <td>2006</td>\n",
       "    </tr>\n",
       "    <tr>\n",
       "      <th>2912</th>\n",
       "      <td>1992</td>\n",
       "      <td>1992</td>\n",
       "      <td>1979.0</td>\n",
       "      <td>2006</td>\n",
       "    </tr>\n",
       "    <tr>\n",
       "      <th>2913</th>\n",
       "      <td>1993</td>\n",
       "      <td>1994</td>\n",
       "      <td>1993.0</td>\n",
       "      <td>2006</td>\n",
       "    </tr>\n",
       "  </tbody>\n",
       "</table>\n",
       "<p>2914 rows × 4 columns</p>\n",
       "</div>"
      ],
      "text/plain": [
       "      YearBuilt  YearRemodAdd  GarageYrBlt  YrSold\n",
       "0          2003          2003       2003.0    2008\n",
       "1          1976          1976       1976.0    2007\n",
       "2          2001          2002       2001.0    2008\n",
       "3          1915          1970       1998.0    2006\n",
       "4          2000          2000       2000.0    2008\n",
       "...         ...           ...          ...     ...\n",
       "2909       1970          1970       1979.0    2006\n",
       "2910       1970          1970       1970.0    2006\n",
       "2911       1960          1996       1960.0    2006\n",
       "2912       1992          1992       1979.0    2006\n",
       "2913       1993          1994       1993.0    2006\n",
       "\n",
       "[2914 rows x 4 columns]"
      ]
     },
     "execution_count": 143,
     "metadata": {},
     "output_type": "execute_result"
    }
   ],
   "source": [
    "all_df[years_features]\n"
   ]
  },
  {
   "cell_type": "markdown",
   "id": "fe188225-dbf8-4e96-a046-acc1daca5c93",
   "metadata": {},
   "source": [
    "- SalePrice와 어떤 연관성이 있는지 확인하는 코드를 작성하자"
   ]
  },
  {
   "cell_type": "code",
   "execution_count": 145,
   "id": "4b9b4a34-e942-4036-ada1-51f1ba4326e6",
   "metadata": {
    "tags": []
   },
   "outputs": [
    {
     "data": {
      "image/png": "[encoded data removed]",
      "text/plain": [
       "<Figure size 1000x600 with 3 Axes>"
      ]
     },
     "metadata": {},
     "output_type": "display_data"
    }
   ],
   "source": [
    "fig, ax = plt. subplots(3,1, figsize =(10,6), sharex=True, sharey=True) # sharex 쉐어하는 것\n",
    "for i, var in enumerate(years_features):\n",
    "    if var !='YrSold':\n",
    "            ax[i].scatter(train[var], y ,alpha=0.3)\n",
    "            ax[i].set_title(f'{var}chart', size=15)\n",
    "            ax[i].set_ylabel('SalePrice', size=15, labelpad =12.5)\n",
    "            \n",
    "plt.xlabel('Year')\n",
    "plt.tight_layout()\n",
    "plt.show()"
   ]
  },
  {
   "cell_type": "markdown",
   "id": "fe2e6756-3f96-4594-b1e0-7d6b0a6e1d01",
   "metadata": {},
   "source": [
    "- 또 필요없는 cols를 삭제한다."
   ]
  },
  {
   "cell_type": "code",
   "execution_count": 147,
   "id": "0c33fe33-4de5-4586-9611-7b98bc7ca146",
   "metadata": {
    "tags": []
   },
   "outputs": [
    {
     "name": "stdout",
     "output_type": "stream",
     "text": [
      "(2914, 63)\n"
     ]
    }
   ],
   "source": [
    "all_df = all_df.drop(['YearBuilt', 'GarageYrBlt'], axis =1)\n",
    "print(all_df.shape)"
   ]
  },
  {
   "cell_type": "markdown",
   "id": "bd709a05-8fbf-4d20-bfd2-0dd8dcc0ef58",
   "metadata": {
    "tags": []
   },
   "source": [
    "- 산점도 작성\n",
    "    +파생변수 하나 = YrSold - YearRemodAdd"
   ]
  },
  {
   "cell_type": "code",
   "execution_count": null,
   "id": "a8fb0619-ef12-458a-a4bb-f231ca8ef1a7",
   "metadata": {},
   "outputs": [],
   "source": [
    "all_df = all_df.drop(['TotalBsmtSF', '1stFlrSF', '2ndFlrSF'], axis = 1)\n",
    "print(all_df.shape)"
   ]
  },
  {
   "cell_type": "code",
   "execution_count": 152,
   "id": "ce123dba-0819-4fdb-bba8-196851b10578",
   "metadata": {
    "tags": []
   },
   "outputs": [
    {
     "data": {
      "image/png": "[encoded data removed]",
      "text/plain": [
       "<Figure size 1000x600 with 1 Axes>"
      ]
     },
     "metadata": {},
     "output_type": "display_data"
    }
   ],
   "source": [
    "yearSinceRemodel = train['YrSold'].astype(int) - train['YearRemodAdd'].astype(int)\n",
    "fig, ax = plt.subplots(figsize=(10, 6))\n",
    "ax.scatter(yearSinceRemodel, y, alpha = 0.3)\n",
    "plt.show()"
   ]
  },
  {
   "cell_type": "code",
   "execution_count": 153,
   "id": "debd9477-08b9-4b2b-baaf-17cfe97c3bc9",
   "metadata": {
    "tags": []
   },
   "outputs": [
    {
     "name": "stdout",
     "output_type": "stream",
     "text": [
      "(2914, 62)\n"
     ]
    }
   ],
   "source": [
    "all_df['YearsSinceRemodel'] = all_df['YrSold'].astype(int) - all_df['YearRemodAdd'].astype(int)\n",
    "all_df = all_df.drop(['YrSold', 'YearRemodAdd'], axis=1)\n",
    "print(all_df.shape)"
   ]
  },
  {
   "cell_type": "markdown",
   "id": "66580bbb-c816-45aa-b2fe-aadf5ce1b838",
   "metadata": {},
   "source": [
    "## 더미 변수\n",
    "- 더미 변수란, 독립 변수를 0과 1로 변환하는 변수를 말합니다.\n",
    "- 아래 데이터 확인"
   ]
  },
  {
   "cell_type": "code",
   "execution_count": 155,
   "id": "7987b04f-e795-427c-90ea-9def483619fe",
   "metadata": {
    "tags": []
   },
   "outputs": [
    {
     "data": {
      "text/plain": [
       "0.000000    2901\n",
       "5.844393       1\n",
       "6.049845       1\n",
       "5.947237       1\n",
       "5.914833       1\n",
       "5.787942       1\n",
       "5.856262       1\n",
       "6.162866       1\n",
       "4.722721       1\n",
       "5.554803       1\n",
       "5.719656       1\n",
       "5.131878       1\n",
       "5.924217       1\n",
       "6.232823       1\n",
       "Name: PoolArea, dtype: int64"
      ]
     },
     "execution_count": 155,
     "metadata": {},
     "output_type": "execute_result"
    }
   ],
   "source": [
    "all_df['PoolArea'].value_counts()"
   ]
  },
  {
   "cell_type": "markdown",
   "id": "b778e797-f634-434a-9660-bcca47baf68b",
   "metadata": {},
   "source": [
    "- 수영장이 있는 집은 빼겠다.\n",
    "- 수영장이 있는 집은 비싸기 때문에 들어가야 해서, 넣어야 한다.\n",
    "- 여러가지 고려해야 한다... 이 점이 어려움\n",
    "- 0과 1로 나눠서 비교해서 잘 맞는 결과를 실험해서 나은 결과값을 사용하겠다! 가 데이터 분석이다.\n",
    "- 변수에서 삭제하려면 삭제하는 근거를 분석 보고서에 넣을 수 있어야 한다."
   ]
  },
  {
   "cell_type": "code",
   "execution_count": 157,
   "id": "429b1327-4610-425c-99e8-5ae3ff6af82f",
   "metadata": {
    "tags": []
   },
   "outputs": [],
   "source": [
    "def count_dummy(x):\n",
    "    if x > 0:\n",
    "        return 1\n",
    "    else:\n",
    "        return 0"
   ]
  },
  {
   "cell_type": "code",
   "execution_count": 158,
   "id": "49236189-b5c2-436b-8521-1d1d80592f8a",
   "metadata": {
    "tags": []
   },
   "outputs": [
    {
     "data": {
      "text/plain": [
       "0    2901\n",
       "1      13\n",
       "Name: PoolArea, dtype: int64"
      ]
     },
     "execution_count": 158,
     "metadata": {},
     "output_type": "execute_result"
    }
   ],
   "source": [
    "all_df['PoolArea'] = all_df['PoolArea'].apply(count_dummy)\n",
    "all_df['PoolArea'].value_counts()"
   ]
  },
  {
   "cell_type": "markdown",
   "id": "f62972ce-bbc2-4deb-89a4-488b3ff78126",
   "metadata": {},
   "source": [
    "- count_dummy로 데이터를 줄여간다."
   ]
  },
  {
   "cell_type": "code",
   "execution_count": 159,
   "id": "b74befb1-09f4-4e4d-9922-a52f5c3917a2",
   "metadata": {
    "tags": []
   },
   "outputs": [
    {
     "data": {
      "text/plain": [
       "1    2757\n",
       "0     157\n",
       "Name: GarageArea, dtype: int64"
      ]
     },
     "execution_count": 159,
     "metadata": {},
     "output_type": "execute_result"
    }
   ],
   "source": [
    "all_df['GarageArea'] = all_df['GarageArea'].apply(count_dummy)\n",
    "all_df['GarageArea'].value_counts()"
   ]
  },
  {
   "cell_type": "markdown",
   "id": "e01d3028-590e-4baf-961f-0896107975ae",
   "metadata": {},
   "source": [
    "- count_dummy로 데이터를 또 줄여간다."
   ]
  },
  {
   "cell_type": "code",
   "execution_count": 160,
   "id": "16abb8c3-e2ff-49c6-8cc8-e151c44f9c08",
   "metadata": {
    "tags": []
   },
   "outputs": [
    {
     "data": {
      "text/plain": [
       "1    1498\n",
       "0    1416\n",
       "Name: Fireplaces, dtype: int64"
      ]
     },
     "execution_count": 160,
     "metadata": {},
     "output_type": "execute_result"
    }
   ],
   "source": [
    "all_df['Fireplaces'] = all_df['Fireplaces'].apply(count_dummy)\n",
    "all_df['Fireplaces'].value_counts()"
   ]
  },
  {
   "cell_type": "markdown",
   "id": "39f0282c-9a11-4456-8876-da48d5f33f57",
   "metadata": {},
   "source": [
    "- count_dummy로 데이터를 줄였다. 결과를 보자"
   ]
  },
  {
   "cell_type": "code",
   "execution_count": 161,
   "id": "2128d9a1-99d7-4553-b40d-304cb37a4ad8",
   "metadata": {
    "tags": []
   },
   "outputs": [
    {
     "data": {
      "text/plain": [
       "(2914, 62)"
      ]
     },
     "execution_count": 161,
     "metadata": {},
     "output_type": "execute_result"
    }
   ],
   "source": [
    "all_df.shape"
   ]
  },
  {
   "cell_type": "code",
   "execution_count": null,
   "id": "5626d997-3b08-4e80-bac9-fa5b1d8d949e",
   "metadata": {},
   "outputs": [],
   "source": [
    "## One hot Encoding \n",
    "- 예를 들어 시, 도를 값을 구한다면, \n",
    "    1904개의 데이터마다 0과 1로 각각 값을 대입해주면 \n",
    "    테이블의 값이 점점 늘어나는데, 지금까지 쓸모없는 데이터들을 줄여줘 왔는데\n",
    "    이렇게 하는 것은 의미가 없어진다."
   ]
  },
  {
   "cell_type": "markdown",
   "id": "2389835d-e137-45b4-bcd8-62147aa9d8e4",
   "metadata": {},
   "source": [
    "## 원핫 인코딩"
   ]
  },
  {
   "cell_type": "code",
   "execution_count": null,
   "id": "d0d5395b-cc4a-4c2b-abb9-18ebe488f56f",
   "metadata": {},
   "outputs": [],
   "source": [
    "import pandas as pd\n",
    "\n",
    "temp = pd.DataFrame({'Food'})"
   ]
  },
  {
   "cell_type": "code",
   "execution_count": null,
   "id": "dd511ba3-c07e-4da3-b83c-c9e110d9e4dc",
   "metadata": {},
   "outputs": [],
   "source": [
    "temp = pd.get_dummies(temp)\n",
    "print(temp)\n",
    "print(temp.shape)"
   ]
  },
  {
   "cell_type": "code",
   "execution_count": 180,
   "id": "d60dd18e-6a86-474c-962b-090403bf05c0",
   "metadata": {
    "tags": []
   },
   "outputs": [
    {
     "data": {
      "text/plain": [
       "(2914, 258)"
      ]
     },
     "execution_count": 180,
     "metadata": {},
     "output_type": "execute_result"
    }
   ],
   "source": [
    "all_df = pd.get_dummies(all_df).reset_index(drop=True)\n",
    "all_df.shape"
   ]
  },
  {
   "cell_type": "code",
   "execution_count": 181,
   "id": "f01bf318-1d13-4f5d-87a6-dedbeffe0817",
   "metadata": {
    "tags": []
   },
   "outputs": [
    {
     "data": {
      "text/html": [
       "<div>\n",
       "<style scoped>\n",
       "    .dataframe tbody tr th:only-of-type {\n",
       "        vertical-align: middle;\n",
       "    }\n",
       "\n",
       "    .dataframe tbody tr th {\n",
       "        vertical-align: top;\n",
       "    }\n",
       "\n",
       "    .dataframe thead th {\n",
       "        text-align: right;\n",
       "    }\n",
       "</style>\n",
       "<table border=\"1\" class=\"dataframe\">\n",
       "  <thead>\n",
       "    <tr style=\"text-align: right;\">\n",
       "      <th></th>\n",
       "      <th>MSSubClass</th>\n",
       "      <th>LotArea</th>\n",
       "      <th>OverallQual</th>\n",
       "      <th>OverallCond</th>\n",
       "      <th>MasVnrArea</th>\n",
       "      <th>BsmtFinSF1</th>\n",
       "      <th>BsmtFinSF2</th>\n",
       "      <th>BsmtUnfSF</th>\n",
       "      <th>LowQualFinSF</th>\n",
       "      <th>GrLivArea</th>\n",
       "      <th>...</th>\n",
       "      <th>SaleType_ConLw</th>\n",
       "      <th>SaleType_New</th>\n",
       "      <th>SaleType_Oth</th>\n",
       "      <th>SaleType_WD</th>\n",
       "      <th>SaleCondition_Abnorml</th>\n",
       "      <th>SaleCondition_AdjLand</th>\n",
       "      <th>SaleCondition_Alloca</th>\n",
       "      <th>SaleCondition_Family</th>\n",
       "      <th>SaleCondition_Normal</th>\n",
       "      <th>SaleCondition_Partial</th>\n",
       "    </tr>\n",
       "  </thead>\n",
       "  <tbody>\n",
       "    <tr>\n",
       "      <th>0</th>\n",
       "      <td>6.514849</td>\n",
       "      <td>13.441162</td>\n",
       "      <td>7</td>\n",
       "      <td>5</td>\n",
       "      <td>19.403768</td>\n",
       "      <td>118.155294</td>\n",
       "      <td>0.0</td>\n",
       "      <td>150.0</td>\n",
       "      <td>0.0</td>\n",
       "      <td>7.250638</td>\n",
       "      <td>...</td>\n",
       "      <td>0</td>\n",
       "      <td>0</td>\n",
       "      <td>0</td>\n",
       "      <td>1</td>\n",
       "      <td>0</td>\n",
       "      <td>0</td>\n",
       "      <td>0</td>\n",
       "      <td>0</td>\n",
       "      <td>1</td>\n",
       "      <td>0</td>\n",
       "    </tr>\n",
       "    <tr>\n",
       "      <th>1</th>\n",
       "      <td>4.256808</td>\n",
       "      <td>13.711769</td>\n",
       "      <td>6</td>\n",
       "      <td>8</td>\n",
       "      <td>0.000000</td>\n",
       "      <td>147.201453</td>\n",
       "      <td>0.0</td>\n",
       "      <td>284.0</td>\n",
       "      <td>0.0</td>\n",
       "      <td>6.962437</td>\n",
       "      <td>...</td>\n",
       "      <td>0</td>\n",
       "      <td>0</td>\n",
       "      <td>0</td>\n",
       "      <td>1</td>\n",
       "      <td>0</td>\n",
       "      <td>0</td>\n",
       "      <td>0</td>\n",
       "      <td>0</td>\n",
       "      <td>1</td>\n",
       "      <td>0</td>\n",
       "    </tr>\n",
       "    <tr>\n",
       "      <th>2</th>\n",
       "      <td>6.514849</td>\n",
       "      <td>14.052142</td>\n",
       "      <td>7</td>\n",
       "      <td>5</td>\n",
       "      <td>17.743120</td>\n",
       "      <td>91.791879</td>\n",
       "      <td>0.0</td>\n",
       "      <td>434.0</td>\n",
       "      <td>0.0</td>\n",
       "      <td>7.291844</td>\n",
       "      <td>...</td>\n",
       "      <td>0</td>\n",
       "      <td>0</td>\n",
       "      <td>0</td>\n",
       "      <td>1</td>\n",
       "      <td>0</td>\n",
       "      <td>0</td>\n",
       "      <td>0</td>\n",
       "      <td>0</td>\n",
       "      <td>1</td>\n",
       "      <td>0</td>\n",
       "    </tr>\n",
       "    <tr>\n",
       "      <th>3</th>\n",
       "      <td>6.879231</td>\n",
       "      <td>13.700638</td>\n",
       "      <td>7</td>\n",
       "      <td>5</td>\n",
       "      <td>0.000000</td>\n",
       "      <td>52.881454</td>\n",
       "      <td>0.0</td>\n",
       "      <td>540.0</td>\n",
       "      <td>0.0</td>\n",
       "      <td>7.254509</td>\n",
       "      <td>...</td>\n",
       "      <td>0</td>\n",
       "      <td>0</td>\n",
       "      <td>0</td>\n",
       "      <td>1</td>\n",
       "      <td>1</td>\n",
       "      <td>0</td>\n",
       "      <td>0</td>\n",
       "      <td>0</td>\n",
       "      <td>0</td>\n",
       "      <td>0</td>\n",
       "    </tr>\n",
       "    <tr>\n",
       "      <th>4</th>\n",
       "      <td>6.514849</td>\n",
       "      <td>14.569342</td>\n",
       "      <td>8</td>\n",
       "      <td>5</td>\n",
       "      <td>25.360528</td>\n",
       "      <td>112.321018</td>\n",
       "      <td>0.0</td>\n",
       "      <td>490.0</td>\n",
       "      <td>0.0</td>\n",
       "      <td>7.488374</td>\n",
       "      <td>...</td>\n",
       "      <td>0</td>\n",
       "      <td>0</td>\n",
       "      <td>0</td>\n",
       "      <td>1</td>\n",
       "      <td>0</td>\n",
       "      <td>0</td>\n",
       "      <td>0</td>\n",
       "      <td>0</td>\n",
       "      <td>1</td>\n",
       "      <td>0</td>\n",
       "    </tr>\n",
       "  </tbody>\n",
       "</table>\n",
       "<p>5 rows × 258 columns</p>\n",
       "</div>"
      ],
      "text/plain": [
       "   MSSubClass    LotArea  OverallQual  OverallCond  MasVnrArea  BsmtFinSF1  \\\n",
       "0    6.514849  13.441162            7            5   19.403768  118.155294   \n",
       "1    4.256808  13.711769            6            8    0.000000  147.201453   \n",
       "2    6.514849  14.052142            7            5   17.743120   91.791879   \n",
       "3    6.879231  13.700638            7            5    0.000000   52.881454   \n",
       "4    6.514849  14.569342            8            5   25.360528  112.321018   \n",
       "\n",
       "   BsmtFinSF2  BsmtUnfSF  LowQualFinSF  GrLivArea  ...  SaleType_ConLw  \\\n",
       "0         0.0      150.0           0.0   7.250638  ...               0   \n",
       "1         0.0      284.0           0.0   6.962437  ...               0   \n",
       "2         0.0      434.0           0.0   7.291844  ...               0   \n",
       "3         0.0      540.0           0.0   7.254509  ...               0   \n",
       "4         0.0      490.0           0.0   7.488374  ...               0   \n",
       "\n",
       "   SaleType_New  SaleType_Oth  SaleType_WD  SaleCondition_Abnorml  \\\n",
       "0             0             0            1                      0   \n",
       "1             0             0            1                      0   \n",
       "2             0             0            1                      0   \n",
       "3             0             0            1                      1   \n",
       "4             0             0            1                      0   \n",
       "\n",
       "   SaleCondition_AdjLand  SaleCondition_Alloca  SaleCondition_Family  \\\n",
       "0                      0                     0                     0   \n",
       "1                      0                     0                     0   \n",
       "2                      0                     0                     0   \n",
       "3                      0                     0                     0   \n",
       "4                      0                     0                     0   \n",
       "\n",
       "   SaleCondition_Normal  SaleCondition_Partial  \n",
       "0                     1                      0  \n",
       "1                     1                      0  \n",
       "2                     1                      0  \n",
       "3                     0                      0  \n",
       "4                     1                      0  \n",
       "\n",
       "[5 rows x 258 columns]"
      ]
     },
     "execution_count": 181,
     "metadata": {},
     "output_type": "execute_result"
    }
   ],
   "source": [
    "all_df.head()"
   ]
  },
  {
   "cell_type": "markdown",
   "id": "854f9908-7697-4b6b-b6ec-170721449dfb",
   "metadata": {},
   "source": [
    "## 범주형 변수를 재 그룹화 한다.\n",
    "- 그룹화하지 않으면 컬럼의 갯수가 늘어나고 성능이 낮아지므로 비효율성이 커진다.\n",
    "- 기존 변수들을 그룹으로 새롭게 묶어야 one hot encoding 할 때, 컬럼이 줄어든다.\n",
    "- 이 그룹화가 어렵다.\n",
    "- 강동구/강남구/중구,,,,: 서울특별시\n",
    "- 부평구/남동구/부천시.... : 인천광역시\n",
    "- 광명시... : 경기도"
   ]
  },
  {
   "cell_type": "markdown",
   "id": "1425e312-387f-48f3-ad10-3d99725ec08a",
   "metadata": {},
   "source": [
    "## 머신러닝 모형 학습 및 평가\n",
    "- 전처리가 끝났다고 가정하고,"
   ]
  },
  {
   "cell_type": "code",
   "execution_count": 182,
   "id": "d0fd84e7-1958-4f34-b848-a7e424872e37",
   "metadata": {
    "tags": []
   },
   "outputs": [
    {
     "data": {
      "text/plain": [
       "((1455, 258), (1455,), (1459, 258))"
      ]
     },
     "execution_count": 182,
     "metadata": {},
     "output_type": "execute_result"
    }
   ],
   "source": [
    "# train, test 가 합쳐진 데이터\n",
    "# train, X = 독립변수, \n",
    "X = all_df.iloc[:len(y), :]\n",
    "test = all_df.iloc[len(y):, :]\n",
    "X.shape, y.shape, test.shape"
   ]
  },
  {
   "cell_type": "markdown",
   "id": "87ecc37b-7a77-4423-8a46-ea802b22a032",
   "metadata": {
    "tags": []
   },
   "source": [
    "- 훈련(train)데이터과 검증(validation) 데이터로 분리한다.\n",
    "- validation data : 가상의 시뮬레이션을 통해서 데이터를 분류한다.\n",
    "                    계속 훈련해서 적절하게 값이 나왔다고 판단하면 test에 들어간다.\n",
    "- test data : 실전, 실험이다.\n"
   ]
  },
  {
   "cell_type": "markdown",
   "id": "948e5ecd-93ec-4588-91f1-81f43e84da20",
   "metadata": {},
   "source": [
    "## 테스트 데이터를 여기서는 사용하지 않는다.\n",
    "## 검증이 완료가 되어야만 사용이 가능하다."
   ]
  },
  {
   "cell_type": "code",
   "execution_count": 189,
   "id": "6b888443-0e8b-4e5f-b370-968771a77c1d",
   "metadata": {
    "tags": []
   },
   "outputs": [
    {
     "data": {
      "text/plain": [
       "((1091, 258), (364, 258), (1091,), (364,))"
      ]
     },
     "execution_count": 189,
     "metadata": {},
     "output_type": "execute_result"
    }
   ],
   "source": [
    "# 테스트데이터를 여기서는 사용하지 않는다! \n",
    "# 검증이 완료가 되어야만 사용이 가능합니다. \n",
    "from sklearn.model_selection import train_test_split \n",
    "X_train, X_val, y_train, y_val = train_test_split(\n",
    "          # 검증데이터 사이즈\n",
    "    X, y, test_size = 0.25, random_state = 42\n",
    ")\n",
    "\n",
    "X_train.shape, X_val.shape, y_train.shape, y_val.shape"
   ]
  },
  {
   "cell_type": "markdown",
   "id": "ce02461d-5e94-4f47-a542-b4fef155b7d6",
   "metadata": {
    "tags": []
   },
   "source": [
    "## 평가지표\n",
    "-오차가 적은 모형이 제일 좋다.\n",
    "- MSE : 음수 출력시, 제곱으로 보정 : 왜곡 심함\n",
    "- MAE : 음수 출력시, 절대값으로 변경\n",
    "- RMSE : MSE에 루트 적용, 큰 오류값 보정 \n",
    "- 참조 : https://scikit-learn.org/stable/modules/classes.html#module-sklearn.metrics"
   ]
  },
  {
   "cell_type": "code",
   "execution_count": null,
   "id": "ed7474ab-381a-4ea6-b3e0-eeafb911c9b8",
   "metadata": {},
   "outputs": [],
   "source": [
    "## 모델\n",
    "- 교차검증"
   ]
  },
  {
   "cell_type": "code",
   "execution_count": null,
   "id": "20d5f4d5-00e4-47ee-b651-fe211990b139",
   "metadata": {},
   "outputs": [],
   "source": []
  },
  {
   "cell_type": "code",
   "execution_count": null,
   "id": "d1c24b77-3a5b-4251-bab1-c164b942a1a4",
   "metadata": {},
   "outputs": [],
   "source": []
  },
  {
   "cell_type": "code",
   "execution_count": null,
   "id": "82c9b962-d489-4719-b402-3fb43c70e148",
   "metadata": {},
   "outputs": [],
   "source": []
  }
 ],
 "metadata": {
  "kernelspec": {
   "display_name": "Python 3 (ipykernel)",
   "language": "python",
   "name": "python3"
  },
  "language_info": {
   "codemirror_mode": {
    "name": "ipython",
    "version": 3
   },
   "file_extension": ".py",
   "mimetype": "text/x-python",
   "name": "python",
   "nbconvert_exporter": "python",
   "pygments_lexer": "ipython3",
   "version": "3.11.2"
  }
 },
 "nbformat": 4,
 "nbformat_minor": 5
}
